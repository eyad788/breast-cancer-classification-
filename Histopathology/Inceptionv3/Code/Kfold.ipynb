{
  "metadata": {
    "kernelspec": {
      "language": "python",
      "display_name": "Python 3",
      "name": "python3"
    },
    "language_info": {
      "name": "python",
      "version": "3.7.12",
      "mimetype": "text/x-python",
      "codemirror_mode": {
        "name": "ipython",
        "version": 3
      },
      "pygments_lexer": "ipython3",
      "nbconvert_exporter": "python",
      "file_extension": ".py"
    },
    "colab": {
      "name": "efficintnetb3kfold.ipynb",
      "provenance": [],
      "collapsed_sections": []
    }
  },
  "nbformat_minor": 0,
  "nbformat": 4,
  "cells": [
    {
      "cell_type": "code",
      "source": [
        "\n",
        "\n",
        "\n",
        "import gc\n",
        "import numpy as np # linear algebra\n",
        "import pandas as pd # data processing, CSV file I/O (e.g. pd.read_csv)\n",
        "import os, time, tqdm\n",
        "import matplotlib.pyplot as plt\n",
        "import seaborn as sns\n",
        "from sklearn.metrics import *\n",
        "import tensorflow as tf \n",
        "from tensorflow.keras import layers\n",
        "from tensorflow.keras.layers import Input, Dense, Flatten, Dropout,GlobalAveragePooling2D\n",
        "from tensorflow.keras.models import Model,Sequential\n",
        "from tensorflow.keras.callbacks import CSVLogger,EarlyStopping, ModelCheckpoint,ReduceLROnPlateau\n",
        "from tensorflow.keras.optimizers import Adam\n",
        "from tensorflow.keras.losses import BinaryCrossentropy\n",
        "from tensorflow.keras.metrics import Precision, Recall\n",
        "import shutil\n",
        "import cv2\n",
        "from statistics import mean\n",
        "from tqdm import tqdm\n",
        "from tensorflow.keras import applications\n",
        "from tensorflow.keras.utils import to_categorical"
      ],
      "metadata": {
        "_uuid": "8f2839f25d086af736a60e9eeb907d3b93b6e0e5",
        "_cell_guid": "b1076dfc-b9ad-4769-8c92-a6c4dae69d19",
        "id": "eRuC_jJ3A-nV",
        "execution": {
          "iopub.status.busy": "2022-03-26T21:30:04.275527Z",
          "iopub.execute_input": "2022-03-26T21:30:04.276564Z",
          "iopub.status.idle": "2022-03-26T21:30:11.891574Z",
          "shell.execute_reply.started": "2022-03-26T21:30:04.276443Z",
          "shell.execute_reply": "2022-03-26T21:30:11.890856Z"
        },
        "trusted": true
      },
      "execution_count": null,
      "outputs": []
    },
    {
      "cell_type": "code",
      "source": [
        "from sklearn.model_selection import StratifiedKFold , KFold ,RepeatedKFold,train_test_split\n",
        "from sklearn.preprocessing import LabelEncoder,image\n",
        "from sklearn.metrics import accuracy_score,classification_report, f1_score"
      ],
      "metadata": {
        "id": "VXY_WsHrA-nb",
        "execution": {
          "iopub.status.busy": "2022-03-26T21:30:11.893413Z",
          "iopub.execute_input": "2022-03-26T21:30:11.893662Z",
          "iopub.status.idle": "2022-03-26T21:30:11.901610Z",
          "shell.execute_reply.started": "2022-03-26T21:30:11.893627Z",
          "shell.execute_reply": "2022-03-26T21:30:11.900129Z"
        },
        "trusted": true
      },
      "execution_count": null,
      "outputs": []
    },
    {
      "cell_type": "code",
      "source": [
        "image_dir = '../input/breakhis/BreaKHis_v1'\n",
        "data_path = '../input/breakhis/Folds.csv'\n",
        "\n",
        "\n",
        "# defining the class names\n",
        "class_names = ['malignant', 'benign']\n",
        "print(class_names)"
      ],
      "metadata": {
        "id": "cC6jwOdsA-nc",
        "execution": {
          "iopub.status.busy": "2022-03-26T21:30:11.902894Z",
          "iopub.execute_input": "2022-03-26T21:30:11.903117Z",
          "iopub.status.idle": "2022-03-26T21:30:11.922420Z",
          "shell.execute_reply.started": "2022-03-26T21:30:11.903087Z",
          "shell.execute_reply": "2022-03-26T21:30:11.921597Z"
        },
        "trusted": true,
        "outputId": "0de98957-5e6c-4c0c-9c83-1a486d30c99a"
      },
      "execution_count": null,
      "outputs": [
        {
          "name": "stdout",
          "text": "['malignant', 'benign']\n",
          "output_type": "stream"
        }
      ]
    },
    {
      "cell_type": "code",
      "source": [
        "data = pd.read_csv(data_path)\n",
        "data.head(5)\n",
        "data.drop"
      ],
      "metadata": {
        "id": "CKWoMxv6A-nd",
        "execution": {
          "iopub.status.busy": "2022-03-26T21:30:11.923894Z",
          "iopub.execute_input": "2022-03-26T21:30:11.924692Z",
          "iopub.status.idle": "2022-03-26T21:30:12.049523Z",
          "shell.execute_reply.started": "2022-03-26T21:30:11.924664Z",
          "shell.execute_reply": "2022-03-26T21:30:12.048715Z"
        },
        "trusted": true,
        "outputId": "da702be5-5a4c-4690-c25f-f8d9d4031a51"
      },
      "execution_count": null,
      "outputs": [
        {
          "execution_count": 4,
          "output_type": "execute_result",
          "data": {
            "text/plain": "<bound method DataFrame.drop of        fold  mag    grp                                           filename\n0         1  100  train  BreaKHis_v1/histology_slides/breast/benign/SOB...\n1         1  100  train  BreaKHis_v1/histology_slides/breast/benign/SOB...\n2         1  100  train  BreaKHis_v1/histology_slides/breast/benign/SOB...\n3         1  100  train  BreaKHis_v1/histology_slides/breast/benign/SOB...\n4         1  100  train  BreaKHis_v1/histology_slides/breast/benign/SOB...\n...     ...  ...    ...                                                ...\n39540     5  400   test  BreaKHis_v1/histology_slides/breast/malignant/...\n39541     5  400   test  BreaKHis_v1/histology_slides/breast/malignant/...\n39542     5  400   test  BreaKHis_v1/histology_slides/breast/malignant/...\n39543     5  400   test  BreaKHis_v1/histology_slides/breast/malignant/...\n39544     5  400   test  BreaKHis_v1/histology_slides/breast/malignant/...\n\n[39545 rows x 4 columns]>"
          },
          "metadata": {}
        }
      ]
    },
    {
      "cell_type": "code",
      "source": [
        "data['fold'].value_counts()"
      ],
      "metadata": {
        "id": "A5DpSawLA-ne",
        "execution": {
          "iopub.status.busy": "2022-03-26T21:30:12.051870Z",
          "iopub.execute_input": "2022-03-26T21:30:12.052200Z",
          "iopub.status.idle": "2022-03-26T21:30:12.067066Z",
          "shell.execute_reply.started": "2022-03-26T21:30:12.052165Z",
          "shell.execute_reply": "2022-03-26T21:30:12.066276Z"
        },
        "trusted": true,
        "outputId": "64780626-1674-47e3-9fe3-ce10f14d991b"
      },
      "execution_count": null,
      "outputs": [
        {
          "execution_count": 5,
          "output_type": "execute_result",
          "data": {
            "text/plain": "1    7909\n2    7909\n3    7909\n4    7909\n5    7909\nName: fold, dtype: int64"
          },
          "metadata": {}
        }
      ]
    },
    {
      "cell_type": "code",
      "source": [
        "data = data.rename(columns={'filename': 'path'})\n",
        "data['label'] = data.path.apply(lambda x: x.split('/')[3])\n",
        "data['label_int'] = data.label.apply(lambda x: class_names.index(x))\n",
        "data['filename'] = data.path.apply(lambda x: x.split('/')[-1])"
      ],
      "metadata": {
        "id": "4CPtinoKA-ne",
        "execution": {
          "iopub.status.busy": "2022-03-26T21:30:12.068770Z",
          "iopub.execute_input": "2022-03-26T21:30:12.069379Z",
          "iopub.status.idle": "2022-03-26T21:30:12.158188Z",
          "shell.execute_reply.started": "2022-03-26T21:30:12.069327Z",
          "shell.execute_reply": "2022-03-26T21:30:12.157434Z"
        },
        "trusted": true
      },
      "execution_count": null,
      "outputs": []
    },
    {
      "cell_type": "code",
      "source": [
        "data.head(6)"
      ],
      "metadata": {
        "id": "kOLpXyl7A-nf",
        "execution": {
          "iopub.status.busy": "2022-03-26T21:30:12.159624Z",
          "iopub.execute_input": "2022-03-26T21:30:12.159887Z",
          "iopub.status.idle": "2022-03-26T21:30:12.174929Z",
          "shell.execute_reply.started": "2022-03-26T21:30:12.159852Z",
          "shell.execute_reply": "2022-03-26T21:30:12.174205Z"
        },
        "trusted": true,
        "outputId": "e596e801-6293-409f-cdbe-b0d17c7a6dea"
      },
      "execution_count": null,
      "outputs": [
        {
          "execution_count": 7,
          "output_type": "execute_result",
          "data": {
            "text/plain": "   fold  mag    grp                                               path  \\\n0     1  100  train  BreaKHis_v1/histology_slides/breast/benign/SOB...   \n1     1  100  train  BreaKHis_v1/histology_slides/breast/benign/SOB...   \n2     1  100  train  BreaKHis_v1/histology_slides/breast/benign/SOB...   \n3     1  100  train  BreaKHis_v1/histology_slides/breast/benign/SOB...   \n4     1  100  train  BreaKHis_v1/histology_slides/breast/benign/SOB...   \n5     1  100  train  BreaKHis_v1/histology_slides/breast/benign/SOB...   \n\n    label  label_int                        filename  \n0  benign          1  SOB_B_A-14-22549AB-100-001.png  \n1  benign          1  SOB_B_A-14-22549AB-100-002.png  \n2  benign          1  SOB_B_A-14-22549AB-100-003.png  \n3  benign          1  SOB_B_A-14-22549AB-100-004.png  \n4  benign          1  SOB_B_A-14-22549AB-100-005.png  \n5  benign          1  SOB_B_A-14-22549AB-100-006.png  ",
            "text/html": "<div>\n<style scoped>\n    .dataframe tbody tr th:only-of-type {\n        vertical-align: middle;\n    }\n\n    .dataframe tbody tr th {\n        vertical-align: top;\n    }\n\n    .dataframe thead th {\n        text-align: right;\n    }\n</style>\n<table border=\"1\" class=\"dataframe\">\n  <thead>\n    <tr style=\"text-align: right;\">\n      <th></th>\n      <th>fold</th>\n      <th>mag</th>\n      <th>grp</th>\n      <th>path</th>\n      <th>label</th>\n      <th>label_int</th>\n      <th>filename</th>\n    </tr>\n  </thead>\n  <tbody>\n    <tr>\n      <th>0</th>\n      <td>1</td>\n      <td>100</td>\n      <td>train</td>\n      <td>BreaKHis_v1/histology_slides/breast/benign/SOB...</td>\n      <td>benign</td>\n      <td>1</td>\n      <td>SOB_B_A-14-22549AB-100-001.png</td>\n    </tr>\n    <tr>\n      <th>1</th>\n      <td>1</td>\n      <td>100</td>\n      <td>train</td>\n      <td>BreaKHis_v1/histology_slides/breast/benign/SOB...</td>\n      <td>benign</td>\n      <td>1</td>\n      <td>SOB_B_A-14-22549AB-100-002.png</td>\n    </tr>\n    <tr>\n      <th>2</th>\n      <td>1</td>\n      <td>100</td>\n      <td>train</td>\n      <td>BreaKHis_v1/histology_slides/breast/benign/SOB...</td>\n      <td>benign</td>\n      <td>1</td>\n      <td>SOB_B_A-14-22549AB-100-003.png</td>\n    </tr>\n    <tr>\n      <th>3</th>\n      <td>1</td>\n      <td>100</td>\n      <td>train</td>\n      <td>BreaKHis_v1/histology_slides/breast/benign/SOB...</td>\n      <td>benign</td>\n      <td>1</td>\n      <td>SOB_B_A-14-22549AB-100-004.png</td>\n    </tr>\n    <tr>\n      <th>4</th>\n      <td>1</td>\n      <td>100</td>\n      <td>train</td>\n      <td>BreaKHis_v1/histology_slides/breast/benign/SOB...</td>\n      <td>benign</td>\n      <td>1</td>\n      <td>SOB_B_A-14-22549AB-100-005.png</td>\n    </tr>\n    <tr>\n      <th>5</th>\n      <td>1</td>\n      <td>100</td>\n      <td>train</td>\n      <td>BreaKHis_v1/histology_slides/breast/benign/SOB...</td>\n      <td>benign</td>\n      <td>1</td>\n      <td>SOB_B_A-14-22549AB-100-006.png</td>\n    </tr>\n  </tbody>\n</table>\n</div>"
          },
          "metadata": {}
        }
      ]
    },
    {
      "cell_type": "code",
      "source": [
        "data = data.loc[data['fold']== 1]\n",
        "data.shape\n",
        "data.reset_index(drop=True)\n",
        "data_copy = data\n"
      ],
      "metadata": {
        "id": "jGlh7WnfA-nf",
        "execution": {
          "iopub.status.busy": "2022-03-26T21:30:12.176215Z",
          "iopub.execute_input": "2022-03-26T21:30:12.176641Z",
          "iopub.status.idle": "2022-03-26T21:30:12.192132Z",
          "shell.execute_reply.started": "2022-03-26T21:30:12.176602Z",
          "shell.execute_reply": "2022-03-26T21:30:12.191330Z"
        },
        "trusted": true
      },
      "execution_count": null,
      "outputs": []
    },
    {
      "cell_type": "code",
      "source": [
        "# Create a new directory to store all available images\n",
        "all_images_dir = 'all_images_dir'\n",
        "os.mkdir(all_images_dir)"
      ],
      "metadata": {
        "id": "GmQkZ0VsA-ng",
        "execution": {
          "iopub.status.busy": "2022-03-26T21:30:12.193473Z",
          "iopub.execute_input": "2022-03-26T21:30:12.193900Z",
          "iopub.status.idle": "2022-03-26T21:30:12.198136Z",
          "shell.execute_reply.started": "2022-03-26T21:30:12.193862Z",
          "shell.execute_reply": "2022-03-26T21:30:12.197383Z"
        },
        "trusted": true
      },
      "execution_count": null,
      "outputs": []
    },
    {
      "cell_type": "code",
      "source": [
        "\n",
        "data['path'][0]"
      ],
      "metadata": {
        "id": "CgR-2FHiA-nh",
        "execution": {
          "iopub.status.busy": "2022-03-26T21:30:12.199598Z",
          "iopub.execute_input": "2022-03-26T21:30:12.200186Z",
          "iopub.status.idle": "2022-03-26T21:30:12.209319Z",
          "shell.execute_reply.started": "2022-03-26T21:30:12.200150Z",
          "shell.execute_reply": "2022-03-26T21:30:12.208483Z"
        },
        "trusted": true,
        "outputId": "ca7d6fad-42cc-4a48-92be-22c99a4d25b9"
      },
      "execution_count": null,
      "outputs": [
        {
          "execution_count": 10,
          "output_type": "execute_result",
          "data": {
            "text/plain": "'BreaKHis_v1/histology_slides/breast/benign/SOB/adenosis/SOB_B_A_14-22549AB/100X/SOB_B_A-14-22549AB-100-001.png'"
          },
          "metadata": {}
        }
      ]
    },
    {
      "cell_type": "code",
      "source": [
        "print(len(data))"
      ],
      "metadata": {
        "id": "8FfxMuseA-nh",
        "execution": {
          "iopub.status.busy": "2022-03-26T21:30:12.211022Z",
          "iopub.execute_input": "2022-03-26T21:30:12.211721Z",
          "iopub.status.idle": "2022-03-26T21:30:12.216724Z",
          "shell.execute_reply.started": "2022-03-26T21:30:12.211682Z",
          "shell.execute_reply": "2022-03-26T21:30:12.215821Z"
        },
        "trusted": true,
        "outputId": "6309c14f-69d9-45a4-eae1-0aeaaf16647e"
      },
      "execution_count": null,
      "outputs": [
        {
          "name": "stdout",
          "text": "7909\n",
          "output_type": "stream"
        }
      ]
    },
    {
      "cell_type": "code",
      "source": [
        "# This code copies all images from their seperate folders into the same \n",
        "# folder called all_images_dir.\n",
        "\n",
        "for i in range(len(data)):\n",
        "    src = os.path.join('../input/breakhis/BreaKHis_v1', data['path'][i])\n",
        "    dst = os.path.join('./all_images_dir', data['filename'][i])\n",
        "    shutil.copyfile(src, dst)\n"
      ],
      "metadata": {
        "id": "Ky2Gzm23A-nh",
        "execution": {
          "iopub.status.busy": "2022-03-26T21:30:12.218324Z",
          "iopub.execute_input": "2022-03-26T21:30:12.218947Z",
          "iopub.status.idle": "2022-03-26T21:31:48.931278Z",
          "shell.execute_reply.started": "2022-03-26T21:30:12.218908Z",
          "shell.execute_reply": "2022-03-26T21:31:48.930561Z"
        },
        "trusted": true
      },
      "execution_count": null,
      "outputs": []
    },
    {
      "cell_type": "code",
      "source": [
        "len(os.listdir('./all_images_dir'))"
      ],
      "metadata": {
        "id": "GMXI3V5GA-ni",
        "execution": {
          "iopub.status.busy": "2022-03-26T21:31:48.935151Z",
          "iopub.execute_input": "2022-03-26T21:31:48.935345Z",
          "iopub.status.idle": "2022-03-26T21:31:48.946163Z",
          "shell.execute_reply.started": "2022-03-26T21:31:48.935321Z",
          "shell.execute_reply": "2022-03-26T21:31:48.945406Z"
        },
        "trusted": true,
        "outputId": "76719aae-22a2-42eb-e700-7bec0adc7531"
      },
      "execution_count": null,
      "outputs": [
        {
          "execution_count": 13,
          "output_type": "execute_result",
          "data": {
            "text/plain": "7909"
          },
          "metadata": {}
        }
      ]
    },
    {
      "cell_type": "code",
      "source": [
        "image_list = os.listdir('all_images_dir')\n",
        "\n",
        "df_data = pd.DataFrame(image_list, columns=['image_id'])\n",
        "\n",
        "\n",
        "\n",
        "df_data.head()\n"
      ],
      "metadata": {
        "id": "ZCsDjxTUA-ni",
        "execution": {
          "iopub.status.busy": "2022-03-26T21:31:48.950237Z",
          "iopub.execute_input": "2022-03-26T21:31:48.950828Z",
          "iopub.status.idle": "2022-03-26T21:31:48.969031Z",
          "shell.execute_reply.started": "2022-03-26T21:31:48.950792Z",
          "shell.execute_reply": "2022-03-26T21:31:48.968404Z"
        },
        "trusted": true,
        "outputId": "fc2069a3-bc5e-4125-f517-7c3308ebdf9e"
      },
      "execution_count": null,
      "outputs": [
        {
          "execution_count": 14,
          "output_type": "execute_result",
          "data": {
            "text/plain": "                         image_id\n0     SOB_M_DC-14-3909-40-023.png\n1    SOB_M_MC-14-16456-40-059.png\n2   SOB_B_TA-14-19854C-40-016.png\n3  SOB_M_LC-14-15570C-200-015.png\n4     SOB_B_F-14-9133-100-025.png",
            "text/html": "<div>\n<style scoped>\n    .dataframe tbody tr th:only-of-type {\n        vertical-align: middle;\n    }\n\n    .dataframe tbody tr th {\n        vertical-align: top;\n    }\n\n    .dataframe thead th {\n        text-align: right;\n    }\n</style>\n<table border=\"1\" class=\"dataframe\">\n  <thead>\n    <tr style=\"text-align: right;\">\n      <th></th>\n      <th>image_id</th>\n    </tr>\n  </thead>\n  <tbody>\n    <tr>\n      <th>0</th>\n      <td>SOB_M_DC-14-3909-40-023.png</td>\n    </tr>\n    <tr>\n      <th>1</th>\n      <td>SOB_M_MC-14-16456-40-059.png</td>\n    </tr>\n    <tr>\n      <th>2</th>\n      <td>SOB_B_TA-14-19854C-40-016.png</td>\n    </tr>\n    <tr>\n      <th>3</th>\n      <td>SOB_M_LC-14-15570C-200-015.png</td>\n    </tr>\n    <tr>\n      <th>4</th>\n      <td>SOB_B_F-14-9133-100-025.png</td>\n    </tr>\n  </tbody>\n</table>\n</div>"
          },
          "metadata": {}
        }
      ]
    },
    {
      "cell_type": "code",
      "source": [
        "data2 = pd.DataFrame()\n",
        "for i in range(len(df_data)):\n",
        "    data1 = data.loc[data['filename']== df_data['image_id'][i]]\n",
        "    data2 = data2.append(data1, ignore_index = True)"
      ],
      "metadata": {
        "id": "M_TMMh5uA-ni",
        "execution": {
          "iopub.status.busy": "2022-03-26T21:31:48.970135Z",
          "iopub.execute_input": "2022-03-26T21:31:48.971600Z",
          "iopub.status.idle": "2022-03-26T21:32:09.518261Z",
          "shell.execute_reply.started": "2022-03-26T21:31:48.971563Z",
          "shell.execute_reply": "2022-03-26T21:32:09.517579Z"
        },
        "trusted": true
      },
      "execution_count": null,
      "outputs": []
    },
    {
      "cell_type": "code",
      "source": [
        "\n",
        "data = data2[['filename','label']]\n",
        "data = data.rename(columns={\"filename\":\"Image\"})\n",
        "data = data.rename(columns={\"label\":\"Class\"})\n",
        "data.head()\n",
        "hold_data = data\n",
        "hold_data.head()"
      ],
      "metadata": {
        "id": "vOQmCK5dA-nj",
        "execution": {
          "iopub.status.busy": "2022-03-26T21:32:09.519380Z",
          "iopub.execute_input": "2022-03-26T21:32:09.520701Z",
          "iopub.status.idle": "2022-03-26T21:32:09.536825Z",
          "shell.execute_reply.started": "2022-03-26T21:32:09.520663Z",
          "shell.execute_reply": "2022-03-26T21:32:09.536002Z"
        },
        "trusted": true,
        "outputId": "50c0825e-3709-49b0-eac3-b43562758f14"
      },
      "execution_count": null,
      "outputs": [
        {
          "execution_count": 16,
          "output_type": "execute_result",
          "data": {
            "text/plain": "                            Image      Class\n0     SOB_M_DC-14-3909-40-023.png  malignant\n1    SOB_M_MC-14-16456-40-059.png  malignant\n2   SOB_B_TA-14-19854C-40-016.png     benign\n3  SOB_M_LC-14-15570C-200-015.png  malignant\n4     SOB_B_F-14-9133-100-025.png     benign",
            "text/html": "<div>\n<style scoped>\n    .dataframe tbody tr th:only-of-type {\n        vertical-align: middle;\n    }\n\n    .dataframe tbody tr th {\n        vertical-align: top;\n    }\n\n    .dataframe thead th {\n        text-align: right;\n    }\n</style>\n<table border=\"1\" class=\"dataframe\">\n  <thead>\n    <tr style=\"text-align: right;\">\n      <th></th>\n      <th>Image</th>\n      <th>Class</th>\n    </tr>\n  </thead>\n  <tbody>\n    <tr>\n      <th>0</th>\n      <td>SOB_M_DC-14-3909-40-023.png</td>\n      <td>malignant</td>\n    </tr>\n    <tr>\n      <th>1</th>\n      <td>SOB_M_MC-14-16456-40-059.png</td>\n      <td>malignant</td>\n    </tr>\n    <tr>\n      <th>2</th>\n      <td>SOB_B_TA-14-19854C-40-016.png</td>\n      <td>benign</td>\n    </tr>\n    <tr>\n      <th>3</th>\n      <td>SOB_M_LC-14-15570C-200-015.png</td>\n      <td>malignant</td>\n    </tr>\n    <tr>\n      <th>4</th>\n      <td>SOB_B_F-14-9133-100-025.png</td>\n      <td>benign</td>\n    </tr>\n  </tbody>\n</table>\n</div>"
          },
          "metadata": {}
        }
      ]
    },
    {
      "cell_type": "code",
      "source": [
        "sns.set_theme()\n",
        "sns.displot(x='Class', data=data)\n",
        "data['Class'].value_counts()"
      ],
      "metadata": {
        "id": "sVmfp1qqA-nj",
        "execution": {
          "iopub.status.busy": "2022-03-26T21:32:09.538076Z",
          "iopub.execute_input": "2022-03-26T21:32:09.538402Z",
          "iopub.status.idle": "2022-03-26T21:32:09.868893Z",
          "shell.execute_reply.started": "2022-03-26T21:32:09.538352Z",
          "shell.execute_reply": "2022-03-26T21:32:09.868193Z"
        },
        "trusted": true,
        "outputId": "5b31749d-d435-439c-efbc-396c7ba589a0"
      },
      "execution_count": null,
      "outputs": [
        {
          "execution_count": 17,
          "output_type": "execute_result",
          "data": {
            "text/plain": "malignant    5429\nbenign       2480\nName: Class, dtype: int64"
          },
          "metadata": {}
        },
        {
          "output_type": "display_data",
          "data": {
            "text/plain": "<Figure size 360x360 with 1 Axes>",
            "image/png": "[encoded data removed]"
          },
          "metadata": {}
        }
      ]
    },
    {
      "cell_type": "code",
      "source": [
        "#datax = data[data[\"Class\"]=='benign']\n",
        "#datax2 = data[data[\"Class\"]=='malignant']\n",
        "#datax2 = datax2[429:]\n",
        "#data = pd.concat([datax,datax2])"
      ],
      "metadata": {
        "id": "kx3l3jvpA-nj",
        "execution": {
          "iopub.status.busy": "2022-03-26T21:32:09.870357Z",
          "iopub.execute_input": "2022-03-26T21:32:09.870870Z",
          "iopub.status.idle": "2022-03-26T21:32:09.874452Z",
          "shell.execute_reply.started": "2022-03-26T21:32:09.870833Z",
          "shell.execute_reply": "2022-03-26T21:32:09.873781Z"
        },
        "trusted": true
      },
      "execution_count": null,
      "outputs": []
    },
    {
      "cell_type": "markdown",
      "source": [
        "**Data splits**"
      ],
      "metadata": {
        "id": "WD1oSyDZA-nk"
      }
    },
    {
      "cell_type": "code",
      "source": [
        "#TEST images samples\n",
        "test_images = data.groupby(by='Class').sample(496)\n",
        "train_images = data.drop(test_images.index).reset_index(drop=True)\n",
        "test_images = test_images.reset_index(drop=True)\n",
        "test_images['Class'].value_counts()"
      ],
      "metadata": {
        "id": "VIhry_25A-nm",
        "execution": {
          "iopub.status.busy": "2022-03-26T21:32:09.876042Z",
          "iopub.execute_input": "2022-03-26T21:32:09.876677Z",
          "iopub.status.idle": "2022-03-26T21:32:09.898719Z",
          "shell.execute_reply.started": "2022-03-26T21:32:09.876629Z",
          "shell.execute_reply": "2022-03-26T21:32:09.898042Z"
        },
        "trusted": true,
        "outputId": "5bff63b4-03b2-416d-ebc4-5b5dbe5fe070"
      },
      "execution_count": null,
      "outputs": [
        {
          "execution_count": 19,
          "output_type": "execute_result",
          "data": {
            "text/plain": "benign       496\nmalignant    496\nName: Class, dtype: int64"
          },
          "metadata": {}
        }
      ]
    },
    {
      "cell_type": "code",
      "source": [
        "\n",
        "train_images['Class'].value_counts()"
      ],
      "metadata": {
        "id": "8ue0xD6QA-nm",
        "execution": {
          "iopub.status.busy": "2022-03-26T21:32:09.900033Z",
          "iopub.execute_input": "2022-03-26T21:32:09.900276Z",
          "iopub.status.idle": "2022-03-26T21:32:09.908384Z",
          "shell.execute_reply.started": "2022-03-26T21:32:09.900244Z",
          "shell.execute_reply": "2022-03-26T21:32:09.907551Z"
        },
        "trusted": true,
        "outputId": "cc227e62-7489-4501-c2ce-b382bb25de48"
      },
      "execution_count": null,
      "outputs": [
        {
          "execution_count": 20,
          "output_type": "execute_result",
          "data": {
            "text/plain": "malignant    4933\nbenign       1984\nName: Class, dtype: int64"
          },
          "metadata": {}
        }
      ]
    },
    {
      "cell_type": "code",
      "source": [
        "max_count = np.max(train_images.Class.value_counts())\n",
        "min_count = np.min(train_images.Class.value_counts())\n",
        "\n",
        "# set number of samples in outer training split\n",
        "train_images = train_images.groupby('Class').sample(n=min_count, replace=True)   #set n to number of images for class\n",
        "train_images = train_images.reset_index(drop=True)\n",
        "print(\"number of train images:\",train_images['Class'].value_counts())"
      ],
      "metadata": {
        "id": "vihbtgvzA-nn",
        "execution": {
          "iopub.status.busy": "2022-03-26T21:32:09.910097Z",
          "iopub.execute_input": "2022-03-26T21:32:09.910461Z",
          "iopub.status.idle": "2022-03-26T21:32:09.932593Z",
          "shell.execute_reply.started": "2022-03-26T21:32:09.910421Z",
          "shell.execute_reply": "2022-03-26T21:32:09.931860Z"
        },
        "trusted": true,
        "outputId": "c57cfdb6-fb1d-4c11-edcf-a50fb18bc56e"
      },
      "execution_count": null,
      "outputs": [
        {
          "name": "stdout",
          "text": "number of train images: benign       1984\nmalignant    1984\nName: Class, dtype: int64\n",
          "output_type": "stream"
        }
      ]
    },
    {
      "cell_type": "code",
      "source": [
        ""
      ],
      "metadata": {
        "id": "IYewUC6GXKVh"
      },
      "execution_count": null,
      "outputs": []
    },
    {
      "cell_type": "markdown",
      "source": [
        ""
      ],
      "metadata": {
        "id": "JlG2j3akA-nn"
      }
    },
    {
      "cell_type": "code",
      "source": [
        "#Storing the average of all predictions\n",
        "\n",
        "main_pred = []\n",
        "error = []\n",
        "data_kfold = pd.DataFrame()\n",
        "# Creating X, Y for training \n",
        "\n",
        "train_y = train_images.Class\n",
        "train_x = train_images.drop(['Class'],axis=1)"
      ],
      "metadata": {
        "id": "0CBs2F14A-nn",
        "execution": {
          "iopub.status.busy": "2022-03-26T21:32:09.933947Z",
          "iopub.execute_input": "2022-03-26T21:32:09.934387Z",
          "iopub.status.idle": "2022-03-26T21:32:09.940374Z",
          "shell.execute_reply.started": "2022-03-26T21:32:09.934331Z",
          "shell.execute_reply": "2022-03-26T21:32:09.939688Z"
        },
        "trusted": true
      },
      "execution_count": null,
      "outputs": []
    },
    {
      "cell_type": "code",
      "source": [
        "IMG_SIZE = 224\n",
        "BATCH_SIZE = 32\n",
        "EPOCHS = 60\n",
        "N_SPLIT = 5      #number of foods\n",
        "TRAIN_PATH = './all_images_dir'"
      ],
      "metadata": {
        "id": "ezi_FAsaA-no",
        "execution": {
          "iopub.status.busy": "2022-03-26T21:32:09.941944Z",
          "iopub.execute_input": "2022-03-26T21:32:09.942529Z",
          "iopub.status.idle": "2022-03-26T21:32:09.950128Z",
          "shell.execute_reply.started": "2022-03-26T21:32:09.942489Z",
          "shell.execute_reply": "2022-03-26T21:32:09.949146Z"
        },
        "trusted": true
      },
      "execution_count": null,
      "outputs": []
    },
    {
      "cell_type": "code",
      "source": [
        "#callbacks\n",
        "early_stopping = EarlyStopping(\n",
        "    min_delta=0.0001, # minimium amount of change to count as an improvement\n",
        "    patience=6, # how many epochs to wait before stopping\n",
        "    restore_best_weights=True,\n",
        ")\n",
        "reduce_lr = ReduceLROnPlateau(monitor='val_loss', factor=0.2,\n",
        "                              patience=3, min_lr=0.000001,verbose = 1)"
      ],
      "metadata": {
        "id": "7-GYnbGQA-no",
        "execution": {
          "iopub.status.busy": "2022-03-26T21:32:09.951748Z",
          "iopub.execute_input": "2022-03-26T21:32:09.952039Z",
          "iopub.status.idle": "2022-03-26T21:32:09.960749Z",
          "shell.execute_reply.started": "2022-03-26T21:32:09.952002Z",
          "shell.execute_reply": "2022-03-26T21:32:09.960003Z"
        },
        "trusted": true
      },
      "execution_count": null,
      "outputs": []
    },
    {
      "cell_type": "markdown",
      "source": [
        "**Model initialization**"
      ],
      "metadata": {
        "id": "qGMSO3WVA-np"
      }
    },
    {
      "cell_type": "code",
      "source": [
        "def get_model(IMG_SIZE):\n",
        "    from tensorflow.keras.applications import EfficientNetB3\n",
        "    pre_trained_model = EfficientNetB3(input_shape=(IMG_SIZE, IMG_SIZE, 3), include_top=False)\n",
        "    for layer in pre_trained_model.layers:\n",
        "        layer.trainable = False\n",
        "\n",
        "    last_layer = pre_trained_model\n",
        "    last_output = last_layer.output\n",
        "    \n",
        "    x= GlobalAveragePooling2D()(last_output)\n",
        "    x = layers.Flatten()(x)\n",
        "    x = Dense(1024, activation=\"relu\")(x)\n",
        "    x = Dense(1024, activation=\"relu\")(x)\n",
        "    x = Dense(512, activation=\"relu\")(x)\n",
        "    x = Dense(2, activation=\"softmax\")(x)\n",
        "    model = Model(pre_trained_model.input, x)\n",
        "\n",
        "    model.compile(loss='categorical_crossentropy',\n",
        "                  optimizer=tf.keras.optimizers.Adam(learning_rate=0.00001),\n",
        "                  metrics=['accuracy'])\n",
        "\n",
        "    return model"
      ],
      "metadata": {
        "id": "UgrQvssbA-np",
        "execution": {
          "iopub.status.busy": "2022-03-26T21:32:09.962412Z",
          "iopub.execute_input": "2022-03-26T21:32:09.962777Z",
          "iopub.status.idle": "2022-03-26T21:32:09.975395Z",
          "shell.execute_reply.started": "2022-03-26T21:32:09.962738Z",
          "shell.execute_reply": "2022-03-26T21:32:09.974427Z"
        },
        "trusted": true
      },
      "execution_count": null,
      "outputs": []
    },
    {
      "cell_type": "markdown",
      "source": [
        "**Kfold loop**"
      ],
      "metadata": {
        "id": "Vm04L4pYA-nr"
      }
    },
    {
      "cell_type": "code",
      "source": [
        "test_generator = ImageDataGenerator(preprocessing_function=tf.keras.applications.efficientnet.preprocess_input)\n",
        "    \n",
        "test_set = test_generator.flow_from_dataframe(dataframe=test_images, directory=TRAIN_PATH,\n",
        "                                                 x_col=\"Image\",y_col=None,\n",
        "                                                 shuffle = False,\n",
        "                                                 class_mode=None,\n",
        "                                                 target_size=(IMG_SIZE,IMG_SIZE))"
      ],
      "metadata": {
        "id": "1L570IbP5rnK",
        "execution": {
          "iopub.status.busy": "2022-03-26T21:32:09.997200Z",
          "iopub.execute_input": "2022-03-26T21:32:09.997589Z",
          "iopub.status.idle": "2022-03-26T21:32:10.019207Z",
          "shell.execute_reply.started": "2022-03-26T21:32:09.997550Z",
          "shell.execute_reply": "2022-03-26T21:32:10.018265Z"
        },
        "trusted": true,
        "outputId": "b3faa2cc-fc71-4f15-81a1-d7edd972a215"
      },
      "execution_count": null,
      "outputs": [
        {
          "name": "stdout",
          "text": "Found 992 validated image filenames.\n",
          "output_type": "stream"
        }
      ]
    },
    {
      "cell_type": "code",
      "source": [
        "#Initializing Data Generators\n",
        "train_datagen = ImageDataGenerator(preprocessing_function=tf.keras.applications.efficientnet.preprocess_input)\n",
        "                                   \n",
        "validation_datagen = ImageDataGenerator(preprocessing_function=tf.keras.applications.efficientnet.preprocess_input)\n",
        "\n",
        "# k-fold\n",
        "kfold = StratifiedKFold(n_splits=N_SPLIT,shuffle=True,random_state=42)\n",
        "\n",
        "# Variable for keeping count of split we are executing\n",
        "j = 0\n",
        "\n",
        "# K-fold Train and test for each split\n",
        "for train_idx, val_idx in list(kfold.split(train_x,train_y)):\n",
        "    x_train_df = train_images.iloc[train_idx]\n",
        "    x_valid_df = train_images.iloc[val_idx]\n",
        "    print(\"fold:\",j+1)\n",
        "    print(\"train data:\",x_train_df[\"Class\"].value_counts())\n",
        "    print(\"valid data:\",x_valid_df[\"Class\"].value_counts())\n",
        "    \n",
        "    j+=1\n",
        "\n",
        "\n",
        "    training_set = train_datagen.flow_from_dataframe(dataframe=x_train_df, directory=TRAIN_PATH,\n",
        "                                                 x_col=\"Image\", y_col=\"Class\",\n",
        "                                                 class_mode=\"categorical\",\n",
        "                                                 target_size=(IMG_SIZE,IMG_SIZE), batch_size=BATCH_SIZE)\n",
        "    \n",
        "    validation_set = validation_datagen.flow_from_dataframe(dataframe=x_valid_df, directory=TRAIN_PATH,\n",
        "                                                 x_col=\"Image\", y_col=\"Class\",\n",
        "                                                 class_mode=\"categorical\",\n",
        "                                                 target_size=(IMG_SIZE,IMG_SIZE), batch_size=BATCH_SIZE)\n",
        "    \n",
        "\n",
        "\n",
        "\n",
        "\n",
        "    model_test = get_model(IMG_SIZE)\n",
        "    \n",
        "    history = model_test.fit_generator( training_set,\n",
        "                                        validation_data=validation_set,\n",
        "                                        epochs = EPOCHS,\n",
        "                                       callbacks = [early_stopping,reduce_lr]\n",
        "                                        )\n",
        "    \n",
        "   \n",
        "    \n",
        "    pred= model_test.predict_generator(test_set)\n",
        "    predicted_class_indices=np.argmax(pred,axis=1)\n",
        "                                       \n",
        "    data_kfold[j] = predicted_class_indices\n",
        "    gc.collect()"
      ],
      "metadata": {
        "id": "8Mj7pzKy5rnL",
        "execution": {
          "iopub.status.busy": "2022-03-26T21:32:10.020866Z",
          "iopub.execute_input": "2022-03-26T21:32:10.021126Z",
          "iopub.status.idle": "2022-03-27T01:32:21.931224Z",
          "shell.execute_reply.started": "2022-03-26T21:32:10.021090Z",
          "shell.execute_reply": "2022-03-27T01:32:21.930482Z"
        },
        "trusted": true,
        "outputId": "4d481683-1a89-4a16-c1b3-38aadfd20c7f"
      },
      "execution_count": null,
      "outputs": [
        {
          "name": "stdout",
          "text": "fold: 1\ntrain data: benign       1587\nmalignant    1587\nName: Class, dtype: int64\nvalid data: benign       397\nmalignant    397\nName: Class, dtype: int64\nFound 3174 validated image filenames belonging to 2 classes.\nFound 794 validated image filenames belonging to 2 classes.\n",
          "output_type": "stream"
        },
        {
          "name": "stderr",
          "text": "2022-03-26 21:32:10.190332: I tensorflow/stream_executor/cuda/cuda_gpu_executor.cc:937] successful NUMA node read from SysFS had negative value (-1), but there must be at least one NUMA node, so returning NUMA node zero\n2022-03-26 21:32:10.298922: I tensorflow/stream_executor/cuda/cuda_gpu_executor.cc:937] successful NUMA node read from SysFS had negative value (-1), but there must be at least one NUMA node, so returning NUMA node zero\n2022-03-26 21:32:10.299743: I tensorflow/stream_executor/cuda/cuda_gpu_executor.cc:937] successful NUMA node read from SysFS had negative value (-1), but there must be at least one NUMA node, so returning NUMA node zero\n2022-03-26 21:32:10.301058: I tensorflow/core/platform/cpu_feature_guard.cc:142] This TensorFlow binary is optimized with oneAPI Deep Neural Network Library (oneDNN) to use the following CPU instructions in performance-critical operations:  AVX2 AVX512F FMA\nTo enable them in other operations, rebuild TensorFlow with the appropriate compiler flags.\n2022-03-26 21:32:10.301483: I tensorflow/stream_executor/cuda/cuda_gpu_executor.cc:937] successful NUMA node read from SysFS had negative value (-1), but there must be at least one NUMA node, so returning NUMA node zero\n2022-03-26 21:32:10.302245: I tensorflow/stream_executor/cuda/cuda_gpu_executor.cc:937] successful NUMA node read from SysFS had negative value (-1), but there must be at least one NUMA node, so returning NUMA node zero\n2022-03-26 21:32:10.303040: I tensorflow/stream_executor/cuda/cuda_gpu_executor.cc:937] successful NUMA node read from SysFS had negative value (-1), but there must be at least one NUMA node, so returning NUMA node zero\n2022-03-26 21:32:12.404478: I tensorflow/stream_executor/cuda/cuda_gpu_executor.cc:937] successful NUMA node read from SysFS had negative value (-1), but there must be at least one NUMA node, so returning NUMA node zero\n2022-03-26 21:32:12.405253: I tensorflow/stream_executor/cuda/cuda_gpu_executor.cc:937] successful NUMA node read from SysFS had negative value (-1), but there must be at least one NUMA node, so returning NUMA node zero\n2022-03-26 21:32:12.406002: I tensorflow/stream_executor/cuda/cuda_gpu_executor.cc:937] successful NUMA node read from SysFS had negative value (-1), but there must be at least one NUMA node, so returning NUMA node zero\n2022-03-26 21:32:12.407538: I tensorflow/core/common_runtime/gpu/gpu_device.cc:1510] Created device /job:localhost/replica:0/task:0/device:GPU:0 with 15403 MB memory:  -> device: 0, name: Tesla P100-PCIE-16GB, pci bus id: 0000:00:04.0, compute capability: 6.0\n",
          "output_type": "stream"
        },
        {
          "name": "stdout",
          "text": "Downloading data from https://storage.googleapis.com/keras-applications/efficientnetb3_notop.h5\n43941888/43941136 [==============================] - 0s 0us/step\n43950080/43941136 [==============================] - 0s 0us/step\n",
          "output_type": "stream"
        },
        {
          "name": "stderr",
          "text": "/opt/conda/lib/python3.7/site-packages/keras/engine/training.py:1972: UserWarning: `Model.fit_generator` is deprecated and will be removed in a future version. Please use `Model.fit`, which supports generators.\n  warnings.warn('`Model.fit_generator` is deprecated and '\n2022-03-26 21:32:16.268454: W tensorflow/core/framework/cpu_allocator_impl.cc:80] Allocation of 19267584 exceeds 10% of free system memory.\n2022-03-26 21:32:16.378849: I tensorflow/compiler/mlir/mlir_graph_optimization_pass.cc:185] None of the MLIR Optimization Passes are enabled (registered 2)\n",
          "output_type": "stream"
        },
        {
          "name": "stdout",
          "text": "Epoch 1/60\n",
          "output_type": "stream"
        },
        {
          "name": "stderr",
          "text": "2022-03-26 21:32:25.295722: W tensorflow/core/framework/cpu_allocator_impl.cc:80] Allocation of 19267584 exceeds 10% of free system memory.\n2022-03-26 21:32:26.190345: I tensorflow/stream_executor/cuda/cuda_dnn.cc:369] Loaded cuDNN version 8005\n",
          "output_type": "stream"
        },
        {
          "name": "stdout",
          "text": "  5/100 [>.............................] - ETA: 40s - loss: 0.7020 - accuracy: 0.5250",
          "output_type": "stream"
        },
        {
          "name": "stderr",
          "text": "2022-03-26 21:32:33.323953: W tensorflow/core/framework/cpu_allocator_impl.cc:80] Allocation of 19267584 exceeds 10% of free system memory.\n",
          "output_type": "stream"
        },
        {
          "name": "stdout",
          "text": "  6/100 [>.............................] - ETA: 41s - loss: 0.7019 - accuracy: 0.5208",
          "output_type": "stream"
        },
        {
          "name": "stderr",
          "text": "2022-03-26 21:32:33.830636: W tensorflow/core/framework/cpu_allocator_impl.cc:80] Allocation of 19267584 exceeds 10% of free system memory.\n",
          "output_type": "stream"
        },
        {
          "name": "stdout",
          "text": "  7/100 [=>............................] - ETA: 42s - loss: 0.6970 - accuracy: 0.5312",
          "output_type": "stream"
        },
        {
          "name": "stderr",
          "text": "2022-03-26 21:32:34.382866: W tensorflow/core/framework/cpu_allocator_impl.cc:80] Allocation of 19267584 exceeds 10% of free system memory.\n",
          "output_type": "stream"
        },
        {
          "name": "stdout",
          "text": "100/100 [==============================] - 80s 653ms/step - loss: 0.6660 - accuracy: 0.6024 - val_loss: 0.6151 - val_accuracy: 0.7317\nEpoch 2/60\n100/100 [==============================] - 60s 597ms/step - loss: 0.5873 - accuracy: 0.7410 - val_loss: 0.5380 - val_accuracy: 0.7809\nEpoch 3/60\n100/100 [==============================] - 60s 596ms/step - loss: 0.5202 - accuracy: 0.7848 - val_loss: 0.4735 - val_accuracy: 0.8010\nEpoch 4/60\n100/100 [==============================] - 60s 599ms/step - loss: 0.4651 - accuracy: 0.8072 - val_loss: 0.4265 - val_accuracy: 0.8199\nEpoch 5/60\n100/100 [==============================] - 60s 597ms/step - loss: 0.4216 - accuracy: 0.8198 - val_loss: 0.3959 - val_accuracy: 0.8300\nEpoch 6/60\n100/100 [==============================] - 60s 602ms/step - loss: 0.3909 - accuracy: 0.8390 - val_loss: 0.3643 - val_accuracy: 0.8438\nEpoch 7/60\n100/100 [==============================] - 60s 601ms/step - loss: 0.3626 - accuracy: 0.8566 - val_loss: 0.3373 - val_accuracy: 0.8652\nEpoch 8/60\n100/100 [==============================] - 60s 604ms/step - loss: 0.3296 - accuracy: 0.8715 - val_loss: 0.3164 - val_accuracy: 0.8841\nEpoch 9/60\n100/100 [==============================] - 60s 603ms/step - loss: 0.3083 - accuracy: 0.8841 - val_loss: 0.3019 - val_accuracy: 0.8854\nEpoch 10/60\n100/100 [==============================] - 60s 599ms/step - loss: 0.2931 - accuracy: 0.8894 - val_loss: 0.2835 - val_accuracy: 0.9030\nEpoch 11/60\n100/100 [==============================] - 60s 596ms/step - loss: 0.2737 - accuracy: 0.9017 - val_loss: 0.2700 - val_accuracy: 0.9018\nEpoch 12/60\n100/100 [==============================] - 59s 590ms/step - loss: 0.2519 - accuracy: 0.9130 - val_loss: 0.2594 - val_accuracy: 0.9018\nEpoch 13/60\n100/100 [==============================] - 60s 597ms/step - loss: 0.2407 - accuracy: 0.9134 - val_loss: 0.2479 - val_accuracy: 0.9106\nEpoch 14/60\n100/100 [==============================] - 59s 593ms/step - loss: 0.2236 - accuracy: 0.9222 - val_loss: 0.2399 - val_accuracy: 0.9144\nEpoch 15/60\n100/100 [==============================] - 60s 597ms/step - loss: 0.2177 - accuracy: 0.9263 - val_loss: 0.2325 - val_accuracy: 0.9207\nEpoch 16/60\n100/100 [==============================] - 60s 601ms/step - loss: 0.2036 - accuracy: 0.9335 - val_loss: 0.2227 - val_accuracy: 0.9219\nEpoch 17/60\n100/100 [==============================] - 60s 600ms/step - loss: 0.1878 - accuracy: 0.9382 - val_loss: 0.2120 - val_accuracy: 0.9257\nEpoch 18/60\n100/100 [==============================] - 60s 598ms/step - loss: 0.1744 - accuracy: 0.9423 - val_loss: 0.2075 - val_accuracy: 0.9295\nEpoch 19/60\n100/100 [==============================] - 60s 599ms/step - loss: 0.1618 - accuracy: 0.9499 - val_loss: 0.1949 - val_accuracy: 0.9295\nEpoch 20/60\n100/100 [==============================] - 60s 597ms/step - loss: 0.1535 - accuracy: 0.9512 - val_loss: 0.2009 - val_accuracy: 0.9232\nEpoch 21/60\n100/100 [==============================] - 60s 596ms/step - loss: 0.1557 - accuracy: 0.9540 - val_loss: 0.1862 - val_accuracy: 0.9345\nEpoch 22/60\n100/100 [==============================] - 60s 604ms/step - loss: 0.1359 - accuracy: 0.9594 - val_loss: 0.1789 - val_accuracy: 0.9383\nEpoch 23/60\n100/100 [==============================] - 59s 592ms/step - loss: 0.1338 - accuracy: 0.9600 - val_loss: 0.1752 - val_accuracy: 0.9421\nEpoch 24/60\n100/100 [==============================] - 60s 600ms/step - loss: 0.1263 - accuracy: 0.9625 - val_loss: 0.1679 - val_accuracy: 0.9433\nEpoch 25/60\n100/100 [==============================] - 60s 596ms/step - loss: 0.1151 - accuracy: 0.9675 - val_loss: 0.1662 - val_accuracy: 0.9383\nEpoch 26/60\n100/100 [==============================] - 60s 603ms/step - loss: 0.1139 - accuracy: 0.9638 - val_loss: 0.1624 - val_accuracy: 0.9370\nEpoch 27/60\n100/100 [==============================] - 60s 600ms/step - loss: 0.1061 - accuracy: 0.9713 - val_loss: 0.1568 - val_accuracy: 0.9395\nEpoch 28/60\n100/100 [==============================] - 59s 595ms/step - loss: 0.1014 - accuracy: 0.9704 - val_loss: 0.1536 - val_accuracy: 0.9446\nEpoch 29/60\n100/100 [==============================] - 60s 596ms/step - loss: 0.0941 - accuracy: 0.9751 - val_loss: 0.1497 - val_accuracy: 0.9408\nEpoch 30/60\n100/100 [==============================] - 59s 592ms/step - loss: 0.0859 - accuracy: 0.9767 - val_loss: 0.1506 - val_accuracy: 0.9471\nEpoch 31/60\n100/100 [==============================] - 60s 598ms/step - loss: 0.0838 - accuracy: 0.9802 - val_loss: 0.1457 - val_accuracy: 0.9395\nEpoch 32/60\n100/100 [==============================] - 59s 596ms/step - loss: 0.0829 - accuracy: 0.9773 - val_loss: 0.1449 - val_accuracy: 0.9421\nEpoch 33/60\n100/100 [==============================] - 60s 599ms/step - loss: 0.0745 - accuracy: 0.9817 - val_loss: 0.1414 - val_accuracy: 0.9408\nEpoch 34/60\n100/100 [==============================] - 60s 597ms/step - loss: 0.0706 - accuracy: 0.9817 - val_loss: 0.1394 - val_accuracy: 0.9446\nEpoch 35/60\n100/100 [==============================] - 60s 600ms/step - loss: 0.0661 - accuracy: 0.9833 - val_loss: 0.1381 - val_accuracy: 0.9484\nEpoch 36/60\n100/100 [==============================] - 60s 597ms/step - loss: 0.0651 - accuracy: 0.9833 - val_loss: 0.1372 - val_accuracy: 0.9458\nEpoch 37/60\n100/100 [==============================] - 59s 591ms/step - loss: 0.0648 - accuracy: 0.9833 - val_loss: 0.1362 - val_accuracy: 0.9421\nEpoch 38/60\n100/100 [==============================] - 60s 602ms/step - loss: 0.0607 - accuracy: 0.9858 - val_loss: 0.1306 - val_accuracy: 0.9521\nEpoch 39/60\n100/100 [==============================] - 60s 600ms/step - loss: 0.0547 - accuracy: 0.9868 - val_loss: 0.1356 - val_accuracy: 0.9521\nEpoch 40/60\n100/100 [==============================] - 60s 600ms/step - loss: 0.0550 - accuracy: 0.9855 - val_loss: 0.1331 - val_accuracy: 0.9471\nEpoch 41/60\n100/100 [==============================] - 60s 600ms/step - loss: 0.0502 - accuracy: 0.9877 - val_loss: 0.1317 - val_accuracy: 0.9509\n\nEpoch 00041: ReduceLROnPlateau reducing learning rate to 1.9999999494757505e-06.\nEpoch 42/60\n100/100 [==============================] - 60s 596ms/step - loss: 0.0496 - accuracy: 0.9880 - val_loss: 0.1304 - val_accuracy: 0.9521\nEpoch 43/60\n100/100 [==============================] - 59s 595ms/step - loss: 0.0488 - accuracy: 0.9877 - val_loss: 0.1306 - val_accuracy: 0.9496\nEpoch 44/60\n100/100 [==============================] - 60s 601ms/step - loss: 0.0444 - accuracy: 0.9890 - val_loss: 0.1310 - val_accuracy: 0.9496\nEpoch 45/60\n100/100 [==============================] - 60s 597ms/step - loss: 0.0461 - accuracy: 0.9896 - val_loss: 0.1301 - val_accuracy: 0.9496\nEpoch 46/60\n100/100 [==============================] - 60s 597ms/step - loss: 0.0421 - accuracy: 0.9915 - val_loss: 0.1307 - val_accuracy: 0.9496\nEpoch 47/60\n100/100 [==============================] - 60s 599ms/step - loss: 0.0492 - accuracy: 0.9880 - val_loss: 0.1333 - val_accuracy: 0.9484\nEpoch 48/60\n100/100 [==============================] - 59s 595ms/step - loss: 0.0415 - accuracy: 0.9915 - val_loss: 0.1329 - val_accuracy: 0.9496\n\nEpoch 00048: ReduceLROnPlateau reducing learning rate to 1e-06.\nEpoch 49/60\n100/100 [==============================] - 60s 600ms/step - loss: 0.0437 - accuracy: 0.9912 - val_loss: 0.1336 - val_accuracy: 0.9496\nEpoch 50/60\n100/100 [==============================] - 59s 593ms/step - loss: 0.0430 - accuracy: 0.9896 - val_loss: 0.1336 - val_accuracy: 0.9496\nEpoch 51/60\n100/100 [==============================] - 60s 600ms/step - loss: 0.0432 - accuracy: 0.9905 - val_loss: 0.1322 - val_accuracy: 0.9496\n",
          "output_type": "stream"
        },
        {
          "name": "stderr",
          "text": "/opt/conda/lib/python3.7/site-packages/keras/engine/training.py:2035: UserWarning: `Model.predict_generator` is deprecated and will be removed in a future version. Please use `Model.predict`, which supports generators.\n  warnings.warn('`Model.predict_generator` is deprecated and '\n",
          "output_type": "stream"
        },
        {
          "name": "stdout",
          "text": "fold: 2\ntrain data: benign       1587\nmalignant    1587\nName: Class, dtype: int64\nvalid data: benign       397\nmalignant    397\nName: Class, dtype: int64\nFound 3174 validated image filenames belonging to 2 classes.\nFound 794 validated image filenames belonging to 2 classes.\nEpoch 1/60\n100/100 [==============================] - 70s 625ms/step - loss: 0.6584 - accuracy: 0.6389 - val_loss: 0.6134 - val_accuracy: 0.7204\nEpoch 2/60\n100/100 [==============================] - 60s 600ms/step - loss: 0.5737 - accuracy: 0.7675 - val_loss: 0.5383 - val_accuracy: 0.7758\nEpoch 3/60\n100/100 [==============================] - 60s 602ms/step - loss: 0.4991 - accuracy: 0.7999 - val_loss: 0.4781 - val_accuracy: 0.7897\nEpoch 4/60\n100/100 [==============================] - 59s 592ms/step - loss: 0.4386 - accuracy: 0.8185 - val_loss: 0.4334 - val_accuracy: 0.8199\nEpoch 5/60\n100/100 [==============================] - 60s 596ms/step - loss: 0.3991 - accuracy: 0.8384 - val_loss: 0.4020 - val_accuracy: 0.8249\nEpoch 6/60\n100/100 [==============================] - 59s 592ms/step - loss: 0.3662 - accuracy: 0.8551 - val_loss: 0.3806 - val_accuracy: 0.8375\nEpoch 7/60\n100/100 [==============================] - 60s 599ms/step - loss: 0.3329 - accuracy: 0.8661 - val_loss: 0.3685 - val_accuracy: 0.8552\nEpoch 8/60\n100/100 [==============================] - 59s 594ms/step - loss: 0.3179 - accuracy: 0.8708 - val_loss: 0.3480 - val_accuracy: 0.8678\nEpoch 9/60\n100/100 [==============================] - 60s 597ms/step - loss: 0.2936 - accuracy: 0.8907 - val_loss: 0.3270 - val_accuracy: 0.8829\nEpoch 10/60\n100/100 [==============================] - 60s 602ms/step - loss: 0.2721 - accuracy: 0.8986 - val_loss: 0.3134 - val_accuracy: 0.8728\nEpoch 11/60\n100/100 [==============================] - 60s 598ms/step - loss: 0.2559 - accuracy: 0.9086 - val_loss: 0.2983 - val_accuracy: 0.8917\nEpoch 12/60\n100/100 [==============================] - 60s 598ms/step - loss: 0.2457 - accuracy: 0.9124 - val_loss: 0.2969 - val_accuracy: 0.8866\nEpoch 13/60\n100/100 [==============================] - 60s 597ms/step - loss: 0.2289 - accuracy: 0.9187 - val_loss: 0.2760 - val_accuracy: 0.8955\nEpoch 14/60\n100/100 [==============================] - 59s 592ms/step - loss: 0.2124 - accuracy: 0.9279 - val_loss: 0.2674 - val_accuracy: 0.9018\nEpoch 15/60\n100/100 [==============================] - 60s 601ms/step - loss: 0.2042 - accuracy: 0.9326 - val_loss: 0.2564 - val_accuracy: 0.9055\nEpoch 16/60\n100/100 [==============================] - 60s 596ms/step - loss: 0.1876 - accuracy: 0.9326 - val_loss: 0.2466 - val_accuracy: 0.9131\nEpoch 17/60\n100/100 [==============================] - 60s 596ms/step - loss: 0.1908 - accuracy: 0.9351 - val_loss: 0.2559 - val_accuracy: 0.9055\nEpoch 18/60\n100/100 [==============================] - 60s 602ms/step - loss: 0.1682 - accuracy: 0.9449 - val_loss: 0.2415 - val_accuracy: 0.9118\nEpoch 19/60\n100/100 [==============================] - 60s 600ms/step - loss: 0.1594 - accuracy: 0.9496 - val_loss: 0.2262 - val_accuracy: 0.9181\nEpoch 20/60\n100/100 [==============================] - 59s 593ms/step - loss: 0.1537 - accuracy: 0.9483 - val_loss: 0.2205 - val_accuracy: 0.9181\nEpoch 21/60\n100/100 [==============================] - 60s 602ms/step - loss: 0.1359 - accuracy: 0.9609 - val_loss: 0.2135 - val_accuracy: 0.9219\nEpoch 22/60\n100/100 [==============================] - 59s 595ms/step - loss: 0.1341 - accuracy: 0.9603 - val_loss: 0.2108 - val_accuracy: 0.9232\nEpoch 23/60\n100/100 [==============================] - 60s 600ms/step - loss: 0.1259 - accuracy: 0.9625 - val_loss: 0.2065 - val_accuracy: 0.9232\nEpoch 24/60\n100/100 [==============================] - 60s 601ms/step - loss: 0.1158 - accuracy: 0.9685 - val_loss: 0.2027 - val_accuracy: 0.9295\nEpoch 25/60\n100/100 [==============================] - 59s 594ms/step - loss: 0.1138 - accuracy: 0.9685 - val_loss: 0.2006 - val_accuracy: 0.9270\nEpoch 26/60\n100/100 [==============================] - 61s 602ms/step - loss: 0.1020 - accuracy: 0.9732 - val_loss: 0.1944 - val_accuracy: 0.9332\nEpoch 27/60\n100/100 [==============================] - 60s 601ms/step - loss: 0.0959 - accuracy: 0.9748 - val_loss: 0.1988 - val_accuracy: 0.9307\nEpoch 28/60\n100/100 [==============================] - 60s 599ms/step - loss: 0.0878 - accuracy: 0.9789 - val_loss: 0.2015 - val_accuracy: 0.9295\nEpoch 29/60\n100/100 [==============================] - 60s 596ms/step - loss: 0.0878 - accuracy: 0.9757 - val_loss: 0.1907 - val_accuracy: 0.9295\nEpoch 30/60\n100/100 [==============================] - 60s 600ms/step - loss: 0.0822 - accuracy: 0.9767 - val_loss: 0.1904 - val_accuracy: 0.9345\nEpoch 31/60\n100/100 [==============================] - 60s 600ms/step - loss: 0.0770 - accuracy: 0.9786 - val_loss: 0.1843 - val_accuracy: 0.9421\nEpoch 32/60\n100/100 [==============================] - 60s 597ms/step - loss: 0.0788 - accuracy: 0.9751 - val_loss: 0.1845 - val_accuracy: 0.9345\nEpoch 33/60\n100/100 [==============================] - 59s 593ms/step - loss: 0.0775 - accuracy: 0.9783 - val_loss: 0.1806 - val_accuracy: 0.9383\nEpoch 34/60\n100/100 [==============================] - 60s 600ms/step - loss: 0.0656 - accuracy: 0.9849 - val_loss: 0.1836 - val_accuracy: 0.9370\nEpoch 35/60\n100/100 [==============================] - 60s 600ms/step - loss: 0.0638 - accuracy: 0.9868 - val_loss: 0.1822 - val_accuracy: 0.9446\nEpoch 36/60\n100/100 [==============================] - 60s 604ms/step - loss: 0.0620 - accuracy: 0.9824 - val_loss: 0.1845 - val_accuracy: 0.9383\n\nEpoch 00036: ReduceLROnPlateau reducing learning rate to 1.9999999494757505e-06.\nEpoch 37/60\n100/100 [==============================] - 60s 600ms/step - loss: 0.0546 - accuracy: 0.9880 - val_loss: 0.1805 - val_accuracy: 0.9433\nEpoch 38/60\n100/100 [==============================] - 60s 602ms/step - loss: 0.0540 - accuracy: 0.9880 - val_loss: 0.1808 - val_accuracy: 0.9395\nEpoch 39/60\n100/100 [==============================] - 60s 597ms/step - loss: 0.0509 - accuracy: 0.9890 - val_loss: 0.1808 - val_accuracy: 0.9421\nEpoch 40/60\n100/100 [==============================] - 60s 599ms/step - loss: 0.0544 - accuracy: 0.9877 - val_loss: 0.1809 - val_accuracy: 0.9408\n\nEpoch 00040: ReduceLROnPlateau reducing learning rate to 1e-06.\nEpoch 41/60\n100/100 [==============================] - 60s 597ms/step - loss: 0.0549 - accuracy: 0.9874 - val_loss: 0.1805 - val_accuracy: 0.9421\nEpoch 42/60\n100/100 [==============================] - 59s 595ms/step - loss: 0.0490 - accuracy: 0.9915 - val_loss: 0.1801 - val_accuracy: 0.9408\nEpoch 43/60\n100/100 [==============================] - 60s 599ms/step - loss: 0.0489 - accuracy: 0.9883 - val_loss: 0.1813 - val_accuracy: 0.9421\nEpoch 44/60\n100/100 [==============================] - 59s 593ms/step - loss: 0.0523 - accuracy: 0.9896 - val_loss: 0.1806 - val_accuracy: 0.9421\nEpoch 45/60\n100/100 [==============================] - 60s 597ms/step - loss: 0.0511 - accuracy: 0.9883 - val_loss: 0.1792 - val_accuracy: 0.9408\nEpoch 46/60\n100/100 [==============================] - 60s 596ms/step - loss: 0.0515 - accuracy: 0.9868 - val_loss: 0.1801 - val_accuracy: 0.9421\nEpoch 47/60\n100/100 [==============================] - 59s 596ms/step - loss: 0.0489 - accuracy: 0.9877 - val_loss: 0.1791 - val_accuracy: 0.9421\nEpoch 48/60\n100/100 [==============================] - 60s 602ms/step - loss: 0.0511 - accuracy: 0.9887 - val_loss: 0.1810 - val_accuracy: 0.9408\nEpoch 49/60\n100/100 [==============================] - 60s 603ms/step - loss: 0.0538 - accuracy: 0.9855 - val_loss: 0.1802 - val_accuracy: 0.9395\nEpoch 50/60\n100/100 [==============================] - 60s 602ms/step - loss: 0.0480 - accuracy: 0.9909 - val_loss: 0.1798 - val_accuracy: 0.9433\nEpoch 51/60\n100/100 [==============================] - 59s 594ms/step - loss: 0.0511 - accuracy: 0.9899 - val_loss: 0.1792 - val_accuracy: 0.9395\nfold: 3\ntrain data: benign       1587\nmalignant    1587\nName: Class, dtype: int64\nvalid data: benign       397\nmalignant    397\nName: Class, dtype: int64\nFound 3174 validated image filenames belonging to 2 classes.\nFound 794 validated image filenames belonging to 2 classes.\nEpoch 1/60\n100/100 [==============================] - 70s 622ms/step - loss: 0.6601 - accuracy: 0.6418 - val_loss: 0.6130 - val_accuracy: 0.7343\nEpoch 2/60\n100/100 [==============================] - 60s 600ms/step - loss: 0.5763 - accuracy: 0.7574 - val_loss: 0.5411 - val_accuracy: 0.7834\nEpoch 3/60\n100/100 [==============================] - 60s 603ms/step - loss: 0.5042 - accuracy: 0.7899 - val_loss: 0.4818 - val_accuracy: 0.8023\nEpoch 4/60\n100/100 [==============================] - 61s 606ms/step - loss: 0.4493 - accuracy: 0.8141 - val_loss: 0.4309 - val_accuracy: 0.8123\nEpoch 5/60\n100/100 [==============================] - 60s 597ms/step - loss: 0.4080 - accuracy: 0.8330 - val_loss: 0.4006 - val_accuracy: 0.8300\nEpoch 6/60\n100/100 [==============================] - 59s 594ms/step - loss: 0.3658 - accuracy: 0.8604 - val_loss: 0.3652 - val_accuracy: 0.8426\nEpoch 7/60\n100/100 [==============================] - 60s 600ms/step - loss: 0.3327 - accuracy: 0.8762 - val_loss: 0.3417 - val_accuracy: 0.8589\nEpoch 8/60\n100/100 [==============================] - 60s 598ms/step - loss: 0.3095 - accuracy: 0.8850 - val_loss: 0.3216 - val_accuracy: 0.8728\nEpoch 9/60\n100/100 [==============================] - 60s 599ms/step - loss: 0.2908 - accuracy: 0.8963 - val_loss: 0.3021 - val_accuracy: 0.8791\nEpoch 10/60\n100/100 [==============================] - 60s 596ms/step - loss: 0.2703 - accuracy: 0.8992 - val_loss: 0.2919 - val_accuracy: 0.8804\nEpoch 11/60\n100/100 [==============================] - 60s 603ms/step - loss: 0.2488 - accuracy: 0.9115 - val_loss: 0.2798 - val_accuracy: 0.8904\nEpoch 12/60\n100/100 [==============================] - 60s 597ms/step - loss: 0.2292 - accuracy: 0.9244 - val_loss: 0.2735 - val_accuracy: 0.8929\nEpoch 13/60\n100/100 [==============================] - 60s 597ms/step - loss: 0.2247 - accuracy: 0.9197 - val_loss: 0.2604 - val_accuracy: 0.9030\nEpoch 14/60\n100/100 [==============================] - 59s 591ms/step - loss: 0.2106 - accuracy: 0.9294 - val_loss: 0.2605 - val_accuracy: 0.8992\nEpoch 15/60\n100/100 [==============================] - 60s 604ms/step - loss: 0.1990 - accuracy: 0.9319 - val_loss: 0.2398 - val_accuracy: 0.9118\nEpoch 16/60\n100/100 [==============================] - 60s 597ms/step - loss: 0.1810 - accuracy: 0.9401 - val_loss: 0.2342 - val_accuracy: 0.9144\nEpoch 17/60\n100/100 [==============================] - 60s 601ms/step - loss: 0.1694 - accuracy: 0.9455 - val_loss: 0.2255 - val_accuracy: 0.9169\nEpoch 18/60\n100/100 [==============================] - 59s 593ms/step - loss: 0.1626 - accuracy: 0.9468 - val_loss: 0.2187 - val_accuracy: 0.9131\nEpoch 19/60\n100/100 [==============================] - 60s 598ms/step - loss: 0.1528 - accuracy: 0.9509 - val_loss: 0.2174 - val_accuracy: 0.9118\nEpoch 20/60\n100/100 [==============================] - 60s 597ms/step - loss: 0.1397 - accuracy: 0.9565 - val_loss: 0.2135 - val_accuracy: 0.9194\nEpoch 21/60\n100/100 [==============================] - 60s 602ms/step - loss: 0.1355 - accuracy: 0.9581 - val_loss: 0.2046 - val_accuracy: 0.9244\nEpoch 22/60\n100/100 [==============================] - 60s 599ms/step - loss: 0.1248 - accuracy: 0.9600 - val_loss: 0.2005 - val_accuracy: 0.9295\nEpoch 23/60\n100/100 [==============================] - 59s 594ms/step - loss: 0.1203 - accuracy: 0.9650 - val_loss: 0.2046 - val_accuracy: 0.9232\nEpoch 24/60\n100/100 [==============================] - 59s 596ms/step - loss: 0.1127 - accuracy: 0.9685 - val_loss: 0.2167 - val_accuracy: 0.9181\nEpoch 25/60\n100/100 [==============================] - 60s 602ms/step - loss: 0.1043 - accuracy: 0.9720 - val_loss: 0.2099 - val_accuracy: 0.9244\n\nEpoch 00025: ReduceLROnPlateau reducing learning rate to 1.9999999494757505e-06.\nEpoch 26/60\n100/100 [==============================] - 60s 604ms/step - loss: 0.0967 - accuracy: 0.9713 - val_loss: 0.1909 - val_accuracy: 0.9282\nEpoch 27/60\n100/100 [==============================] - 61s 612ms/step - loss: 0.0973 - accuracy: 0.9694 - val_loss: 0.1920 - val_accuracy: 0.9270\nEpoch 28/60\n100/100 [==============================] - 63s 626ms/step - loss: 0.0947 - accuracy: 0.9754 - val_loss: 0.1891 - val_accuracy: 0.9282\nEpoch 29/60\n100/100 [==============================] - 62s 625ms/step - loss: 0.0975 - accuracy: 0.9732 - val_loss: 0.1903 - val_accuracy: 0.9307\nEpoch 30/60\n100/100 [==============================] - 61s 612ms/step - loss: 0.0945 - accuracy: 0.9742 - val_loss: 0.1907 - val_accuracy: 0.9295\nEpoch 31/60\n100/100 [==============================] - 63s 628ms/step - loss: 0.0864 - accuracy: 0.9798 - val_loss: 0.1860 - val_accuracy: 0.9320\nEpoch 32/60\n100/100 [==============================] - 61s 612ms/step - loss: 0.0921 - accuracy: 0.9751 - val_loss: 0.1863 - val_accuracy: 0.9282\nEpoch 33/60\n100/100 [==============================] - 61s 613ms/step - loss: 0.0847 - accuracy: 0.9789 - val_loss: 0.1882 - val_accuracy: 0.9282\nEpoch 34/60\n100/100 [==============================] - 61s 613ms/step - loss: 0.0927 - accuracy: 0.9739 - val_loss: 0.1856 - val_accuracy: 0.9295\nEpoch 35/60\n100/100 [==============================] - 61s 612ms/step - loss: 0.0906 - accuracy: 0.9751 - val_loss: 0.1823 - val_accuracy: 0.9345\nEpoch 36/60\n100/100 [==============================] - 62s 619ms/step - loss: 0.0886 - accuracy: 0.9776 - val_loss: 0.1833 - val_accuracy: 0.9282\nEpoch 37/60\n100/100 [==============================] - 62s 617ms/step - loss: 0.0849 - accuracy: 0.9783 - val_loss: 0.1825 - val_accuracy: 0.9320\nEpoch 38/60\n100/100 [==============================] - 62s 623ms/step - loss: 0.0835 - accuracy: 0.9798 - val_loss: 0.1856 - val_accuracy: 0.9345\n\nEpoch 00038: ReduceLROnPlateau reducing learning rate to 1e-06.\nEpoch 39/60\n100/100 [==============================] - 62s 620ms/step - loss: 0.0839 - accuracy: 0.9805 - val_loss: 0.1843 - val_accuracy: 0.9332\nEpoch 40/60\n100/100 [==============================] - 61s 614ms/step - loss: 0.0877 - accuracy: 0.9761 - val_loss: 0.1829 - val_accuracy: 0.9332\nEpoch 41/60\n100/100 [==============================] - 62s 616ms/step - loss: 0.0826 - accuracy: 0.9811 - val_loss: 0.1852 - val_accuracy: 0.9332\nfold: 4\ntrain data: malignant    1588\nbenign       1587\nName: Class, dtype: int64\nvalid data: benign       397\nmalignant    396\nName: Class, dtype: int64\nFound 3175 validated image filenames belonging to 2 classes.\nFound 793 validated image filenames belonging to 2 classes.\nEpoch 1/60\n100/100 [==============================] - 73s 652ms/step - loss: 0.6545 - accuracy: 0.6280 - val_loss: 0.6063 - val_accuracy: 0.7364\nEpoch 2/60\n100/100 [==============================] - 62s 619ms/step - loss: 0.5652 - accuracy: 0.7600 - val_loss: 0.5313 - val_accuracy: 0.7869\nEpoch 3/60\n100/100 [==============================] - 63s 625ms/step - loss: 0.4924 - accuracy: 0.7975 - val_loss: 0.4743 - val_accuracy: 0.7995\nEpoch 4/60\n100/100 [==============================] - 62s 620ms/step - loss: 0.4381 - accuracy: 0.8173 - val_loss: 0.4361 - val_accuracy: 0.8134\nEpoch 5/60\n100/100 [==============================] - 63s 630ms/step - loss: 0.3964 - accuracy: 0.8353 - val_loss: 0.4015 - val_accuracy: 0.8272\nEpoch 6/60\n100/100 [==============================] - 61s 614ms/step - loss: 0.3665 - accuracy: 0.8504 - val_loss: 0.3885 - val_accuracy: 0.8310\nEpoch 7/60\n100/100 [==============================] - 64s 636ms/step - loss: 0.3441 - accuracy: 0.8598 - val_loss: 0.3618 - val_accuracy: 0.8499\nEpoch 8/60\n100/100 [==============================] - 62s 623ms/step - loss: 0.3134 - accuracy: 0.8784 - val_loss: 0.3435 - val_accuracy: 0.8600\nEpoch 9/60\n100/100 [==============================] - 61s 608ms/step - loss: 0.2961 - accuracy: 0.8854 - val_loss: 0.3331 - val_accuracy: 0.8588\nEpoch 10/60\n100/100 [==============================] - 61s 611ms/step - loss: 0.2796 - accuracy: 0.8923 - val_loss: 0.3107 - val_accuracy: 0.8878\nEpoch 11/60\n100/100 [==============================] - 60s 605ms/step - loss: 0.2617 - accuracy: 0.9068 - val_loss: 0.2960 - val_accuracy: 0.8941\nEpoch 12/60\n100/100 [==============================] - 62s 617ms/step - loss: 0.2424 - accuracy: 0.9187 - val_loss: 0.2870 - val_accuracy: 0.8979\nEpoch 13/60\n100/100 [==============================] - 62s 618ms/step - loss: 0.2325 - accuracy: 0.9219 - val_loss: 0.2785 - val_accuracy: 0.8928\nEpoch 14/60\n100/100 [==============================] - 61s 615ms/step - loss: 0.2182 - accuracy: 0.9276 - val_loss: 0.2661 - val_accuracy: 0.8979\nEpoch 15/60\n100/100 [==============================] - 61s 613ms/step - loss: 0.2086 - accuracy: 0.9282 - val_loss: 0.2567 - val_accuracy: 0.9079\nEpoch 16/60\n100/100 [==============================] - 60s 605ms/step - loss: 0.1910 - accuracy: 0.9345 - val_loss: 0.2492 - val_accuracy: 0.9079\nEpoch 17/60\n100/100 [==============================] - 61s 607ms/step - loss: 0.1809 - accuracy: 0.9342 - val_loss: 0.2436 - val_accuracy: 0.9054\nEpoch 18/60\n100/100 [==============================] - 61s 613ms/step - loss: 0.1698 - accuracy: 0.9458 - val_loss: 0.2411 - val_accuracy: 0.9016\nEpoch 19/60\n100/100 [==============================] - 61s 608ms/step - loss: 0.1620 - accuracy: 0.9543 - val_loss: 0.2284 - val_accuracy: 0.9092\nEpoch 20/60\n100/100 [==============================] - 62s 616ms/step - loss: 0.1469 - accuracy: 0.9587 - val_loss: 0.2297 - val_accuracy: 0.9130\nEpoch 21/60\n100/100 [==============================] - 61s 609ms/step - loss: 0.1536 - accuracy: 0.9480 - val_loss: 0.2117 - val_accuracy: 0.9193\nEpoch 22/60\n100/100 [==============================] - 61s 609ms/step - loss: 0.1366 - accuracy: 0.9600 - val_loss: 0.2093 - val_accuracy: 0.9193\nEpoch 23/60\n100/100 [==============================] - 61s 606ms/step - loss: 0.1317 - accuracy: 0.9654 - val_loss: 0.2070 - val_accuracy: 0.9231\nEpoch 24/60\n100/100 [==============================] - 61s 613ms/step - loss: 0.1191 - accuracy: 0.9647 - val_loss: 0.2030 - val_accuracy: 0.9206\nEpoch 25/60\n100/100 [==============================] - 61s 609ms/step - loss: 0.1178 - accuracy: 0.9666 - val_loss: 0.2005 - val_accuracy: 0.9180\nEpoch 26/60\n100/100 [==============================] - 61s 612ms/step - loss: 0.1155 - accuracy: 0.9663 - val_loss: 0.2123 - val_accuracy: 0.9142\nEpoch 27/60\n100/100 [==============================] - 61s 608ms/step - loss: 0.0955 - accuracy: 0.9780 - val_loss: 0.2002 - val_accuracy: 0.9180\nEpoch 28/60\n100/100 [==============================] - 61s 611ms/step - loss: 0.0964 - accuracy: 0.9726 - val_loss: 0.1986 - val_accuracy: 0.9243\nEpoch 29/60\n100/100 [==============================] - 62s 619ms/step - loss: 0.0901 - accuracy: 0.9770 - val_loss: 0.1986 - val_accuracy: 0.9218\nEpoch 30/60\n100/100 [==============================] - 61s 606ms/step - loss: 0.0850 - accuracy: 0.9761 - val_loss: 0.1869 - val_accuracy: 0.9369\nEpoch 31/60\n100/100 [==============================] - 61s 610ms/step - loss: 0.0811 - accuracy: 0.9792 - val_loss: 0.1824 - val_accuracy: 0.9357\nEpoch 32/60\n100/100 [==============================] - 61s 613ms/step - loss: 0.0770 - accuracy: 0.9795 - val_loss: 0.1829 - val_accuracy: 0.9281\nEpoch 33/60\n100/100 [==============================] - 62s 620ms/step - loss: 0.0757 - accuracy: 0.9786 - val_loss: 0.1834 - val_accuracy: 0.9344\nEpoch 34/60\n100/100 [==============================] - 62s 620ms/step - loss: 0.0670 - accuracy: 0.9814 - val_loss: 0.1833 - val_accuracy: 0.9256\n\nEpoch 00034: ReduceLROnPlateau reducing learning rate to 1.9999999494757505e-06.\nEpoch 35/60\n100/100 [==============================] - 61s 616ms/step - loss: 0.0687 - accuracy: 0.9808 - val_loss: 0.1834 - val_accuracy: 0.9256\nEpoch 36/60\n100/100 [==============================] - 62s 616ms/step - loss: 0.0617 - accuracy: 0.9865 - val_loss: 0.1822 - val_accuracy: 0.9319\nEpoch 37/60\n100/100 [==============================] - 62s 620ms/step - loss: 0.0617 - accuracy: 0.9852 - val_loss: 0.1803 - val_accuracy: 0.9306\nEpoch 38/60\n100/100 [==============================] - 62s 619ms/step - loss: 0.0571 - accuracy: 0.9871 - val_loss: 0.1818 - val_accuracy: 0.9306\nEpoch 39/60\n100/100 [==============================] - 62s 624ms/step - loss: 0.0568 - accuracy: 0.9883 - val_loss: 0.1823 - val_accuracy: 0.9281\nEpoch 40/60\n100/100 [==============================] - 62s 618ms/step - loss: 0.0603 - accuracy: 0.9858 - val_loss: 0.1825 - val_accuracy: 0.9281\n\nEpoch 00040: ReduceLROnPlateau reducing learning rate to 1e-06.\nEpoch 41/60\n100/100 [==============================] - 62s 618ms/step - loss: 0.0579 - accuracy: 0.9824 - val_loss: 0.1817 - val_accuracy: 0.9281\nEpoch 42/60\n100/100 [==============================] - 62s 622ms/step - loss: 0.0571 - accuracy: 0.9865 - val_loss: 0.1846 - val_accuracy: 0.9294\nEpoch 43/60\n100/100 [==============================] - 61s 615ms/step - loss: 0.0597 - accuracy: 0.9855 - val_loss: 0.1818 - val_accuracy: 0.9332\nfold: 5\ntrain data: benign       1588\nmalignant    1587\nName: Class, dtype: int64\nvalid data: malignant    397\nbenign       396\nName: Class, dtype: int64\nFound 3175 validated image filenames belonging to 2 classes.\nFound 793 validated image filenames belonging to 2 classes.\nEpoch 1/60\n100/100 [==============================] - 73s 648ms/step - loss: 0.6483 - accuracy: 0.6658 - val_loss: 0.6099 - val_accuracy: 0.7024\nEpoch 2/60\n100/100 [==============================] - 62s 620ms/step - loss: 0.5672 - accuracy: 0.7553 - val_loss: 0.5382 - val_accuracy: 0.7591\nEpoch 3/60\n100/100 [==============================] - 62s 618ms/step - loss: 0.5008 - accuracy: 0.7953 - val_loss: 0.4801 - val_accuracy: 0.7881\nEpoch 4/60\n100/100 [==============================] - 62s 619ms/step - loss: 0.4407 - accuracy: 0.8167 - val_loss: 0.4304 - val_accuracy: 0.8172\nEpoch 5/60\n100/100 [==============================] - 61s 615ms/step - loss: 0.4000 - accuracy: 0.8365 - val_loss: 0.4009 - val_accuracy: 0.8235\nEpoch 6/60\n100/100 [==============================] - 62s 622ms/step - loss: 0.3648 - accuracy: 0.8564 - val_loss: 0.3733 - val_accuracy: 0.8449\nEpoch 7/60\n100/100 [==============================] - 62s 618ms/step - loss: 0.3377 - accuracy: 0.8665 - val_loss: 0.3594 - val_accuracy: 0.8575\nEpoch 8/60\n100/100 [==============================] - 62s 617ms/step - loss: 0.3196 - accuracy: 0.8712 - val_loss: 0.3357 - val_accuracy: 0.8689\nEpoch 9/60\n100/100 [==============================] - 62s 624ms/step - loss: 0.2905 - accuracy: 0.8917 - val_loss: 0.3227 - val_accuracy: 0.8752\nEpoch 10/60\n100/100 [==============================] - 62s 624ms/step - loss: 0.2749 - accuracy: 0.8961 - val_loss: 0.3103 - val_accuracy: 0.8789\nEpoch 11/60\n100/100 [==============================] - 62s 620ms/step - loss: 0.2628 - accuracy: 0.9043 - val_loss: 0.3047 - val_accuracy: 0.8815\nEpoch 12/60\n100/100 [==============================] - 62s 625ms/step - loss: 0.2373 - accuracy: 0.9194 - val_loss: 0.2840 - val_accuracy: 0.8878\nEpoch 13/60\n100/100 [==============================] - 62s 620ms/step - loss: 0.2291 - accuracy: 0.9222 - val_loss: 0.2756 - val_accuracy: 0.8928\nEpoch 14/60\n100/100 [==============================] - 62s 618ms/step - loss: 0.2110 - accuracy: 0.9266 - val_loss: 0.2738 - val_accuracy: 0.8903\nEpoch 15/60\n100/100 [==============================] - 62s 622ms/step - loss: 0.1928 - accuracy: 0.9351 - val_loss: 0.2645 - val_accuracy: 0.9029\nEpoch 16/60\n100/100 [==============================] - 62s 624ms/step - loss: 0.1881 - accuracy: 0.9345 - val_loss: 0.2557 - val_accuracy: 0.9105\nEpoch 17/60\n100/100 [==============================] - 62s 621ms/step - loss: 0.1802 - accuracy: 0.9402 - val_loss: 0.2608 - val_accuracy: 0.9029\nEpoch 18/60\n100/100 [==============================] - 62s 625ms/step - loss: 0.1622 - accuracy: 0.9490 - val_loss: 0.2398 - val_accuracy: 0.9117\nEpoch 19/60\n100/100 [==============================] - 62s 621ms/step - loss: 0.1561 - accuracy: 0.9531 - val_loss: 0.2277 - val_accuracy: 0.9142\nEpoch 20/60\n100/100 [==============================] - 61s 614ms/step - loss: 0.1458 - accuracy: 0.9550 - val_loss: 0.2250 - val_accuracy: 0.9231\nEpoch 21/60\n100/100 [==============================] - 62s 618ms/step - loss: 0.1374 - accuracy: 0.9584 - val_loss: 0.2172 - val_accuracy: 0.9243\nEpoch 22/60\n100/100 [==============================] - 62s 616ms/step - loss: 0.1350 - accuracy: 0.9575 - val_loss: 0.2157 - val_accuracy: 0.9206\nEpoch 23/60\n100/100 [==============================] - 62s 617ms/step - loss: 0.1228 - accuracy: 0.9638 - val_loss: 0.2263 - val_accuracy: 0.9193\nEpoch 24/60\n100/100 [==============================] - 62s 620ms/step - loss: 0.1224 - accuracy: 0.9628 - val_loss: 0.2096 - val_accuracy: 0.9218\nEpoch 25/60\n100/100 [==============================] - 62s 619ms/step - loss: 0.1134 - accuracy: 0.9679 - val_loss: 0.2100 - val_accuracy: 0.9218\nEpoch 26/60\n100/100 [==============================] - 62s 623ms/step - loss: 0.1016 - accuracy: 0.9764 - val_loss: 0.2048 - val_accuracy: 0.9256\nEpoch 27/60\n100/100 [==============================] - 62s 622ms/step - loss: 0.0945 - accuracy: 0.9770 - val_loss: 0.2028 - val_accuracy: 0.9294\nEpoch 28/60\n100/100 [==============================] - 62s 618ms/step - loss: 0.0903 - accuracy: 0.9748 - val_loss: 0.1959 - val_accuracy: 0.9218\nEpoch 29/60\n100/100 [==============================] - 62s 622ms/step - loss: 0.0899 - accuracy: 0.9767 - val_loss: 0.2015 - val_accuracy: 0.9319\nEpoch 30/60\n100/100 [==============================] - 62s 618ms/step - loss: 0.0908 - accuracy: 0.9729 - val_loss: 0.1933 - val_accuracy: 0.9357\nEpoch 31/60\n100/100 [==============================] - 62s 623ms/step - loss: 0.0772 - accuracy: 0.9789 - val_loss: 0.1907 - val_accuracy: 0.9344\nEpoch 32/60\n100/100 [==============================] - 62s 618ms/step - loss: 0.0807 - accuracy: 0.9745 - val_loss: 0.1874 - val_accuracy: 0.9319\nEpoch 33/60\n100/100 [==============================] - 61s 615ms/step - loss: 0.0768 - accuracy: 0.9798 - val_loss: 0.2008 - val_accuracy: 0.9281\nEpoch 34/60\n100/100 [==============================] - 61s 614ms/step - loss: 0.0689 - accuracy: 0.9802 - val_loss: 0.1960 - val_accuracy: 0.9256\nEpoch 35/60\n100/100 [==============================] - 61s 614ms/step - loss: 0.0633 - accuracy: 0.9836 - val_loss: 0.1822 - val_accuracy: 0.9344\nEpoch 36/60\n100/100 [==============================] - 61s 613ms/step - loss: 0.0693 - accuracy: 0.9776 - val_loss: 0.1949 - val_accuracy: 0.9243\nEpoch 37/60\n100/100 [==============================] - 61s 615ms/step - loss: 0.0607 - accuracy: 0.9849 - val_loss: 0.1972 - val_accuracy: 0.9332\nEpoch 38/60\n100/100 [==============================] - 61s 611ms/step - loss: 0.0612 - accuracy: 0.9824 - val_loss: 0.1843 - val_accuracy: 0.9269\n\nEpoch 00038: ReduceLROnPlateau reducing learning rate to 1.9999999494757505e-06.\nEpoch 39/60\n100/100 [==============================] - 62s 620ms/step - loss: 0.0513 - accuracy: 0.9877 - val_loss: 0.1803 - val_accuracy: 0.9344\nEpoch 40/60\n100/100 [==============================] - 61s 615ms/step - loss: 0.0550 - accuracy: 0.9871 - val_loss: 0.1796 - val_accuracy: 0.9332\nEpoch 41/60\n100/100 [==============================] - 62s 619ms/step - loss: 0.0516 - accuracy: 0.9877 - val_loss: 0.1818 - val_accuracy: 0.9306\nEpoch 42/60\n100/100 [==============================] - 62s 621ms/step - loss: 0.0535 - accuracy: 0.9861 - val_loss: 0.1826 - val_accuracy: 0.9332\nEpoch 43/60\n100/100 [==============================] - 62s 619ms/step - loss: 0.0459 - accuracy: 0.9899 - val_loss: 0.1834 - val_accuracy: 0.9281\n\nEpoch 00043: ReduceLROnPlateau reducing learning rate to 1e-06.\nEpoch 44/60\n100/100 [==============================] - 62s 621ms/step - loss: 0.0492 - accuracy: 0.9880 - val_loss: 0.1818 - val_accuracy: 0.9306\nEpoch 45/60\n100/100 [==============================] - 62s 621ms/step - loss: 0.0442 - accuracy: 0.9893 - val_loss: 0.1826 - val_accuracy: 0.9294\nEpoch 46/60\n100/100 [==============================] - 62s 617ms/step - loss: 0.0468 - accuracy: 0.9899 - val_loss: 0.1828 - val_accuracy: 0.9269\n",
          "output_type": "stream"
        }
      ]
    },
    {
      "cell_type": "code",
      "source": [
        "# holder\n",
        "data_kfold"
      ],
      "metadata": {
        "id": "apEZ0u4mA-ns",
        "execution": {
          "iopub.status.busy": "2022-03-27T01:32:21.935689Z",
          "iopub.execute_input": "2022-03-27T01:32:21.935908Z",
          "iopub.status.idle": "2022-03-27T01:32:21.951891Z",
          "shell.execute_reply.started": "2022-03-27T01:32:21.935882Z",
          "shell.execute_reply": "2022-03-27T01:32:21.950953Z"
        },
        "trusted": true,
        "outputId": "617b4987-7405-4efc-a1bf-7453e5e89283"
      },
      "execution_count": null,
      "outputs": [
        {
          "execution_count": 30,
          "output_type": "execute_result",
          "data": {
            "text/plain": "     1  2  3  4  5\n0    0  0  0  0  0\n1    0  0  0  0  0\n2    0  0  0  0  0\n3    0  0  0  0  0\n4    0  0  0  0  0\n..  .. .. .. .. ..\n987  1  1  1  1  1\n988  1  1  1  1  0\n989  1  1  1  1  1\n990  1  1  1  1  1\n991  1  1  1  1  1\n\n[992 rows x 5 columns]",
            "text/html": "<div>\n<style scoped>\n    .dataframe tbody tr th:only-of-type {\n        vertical-align: middle;\n    }\n\n    .dataframe tbody tr th {\n        vertical-align: top;\n    }\n\n    .dataframe thead th {\n        text-align: right;\n    }\n</style>\n<table border=\"1\" class=\"dataframe\">\n  <thead>\n    <tr style=\"text-align: right;\">\n      <th></th>\n      <th>1</th>\n      <th>2</th>\n      <th>3</th>\n      <th>4</th>\n      <th>5</th>\n    </tr>\n  </thead>\n  <tbody>\n    <tr>\n      <th>0</th>\n      <td>0</td>\n      <td>0</td>\n      <td>0</td>\n      <td>0</td>\n      <td>0</td>\n    </tr>\n    <tr>\n      <th>1</th>\n      <td>0</td>\n      <td>0</td>\n      <td>0</td>\n      <td>0</td>\n      <td>0</td>\n    </tr>\n    <tr>\n      <th>2</th>\n      <td>0</td>\n      <td>0</td>\n      <td>0</td>\n      <td>0</td>\n      <td>0</td>\n    </tr>\n    <tr>\n      <th>3</th>\n      <td>0</td>\n      <td>0</td>\n      <td>0</td>\n      <td>0</td>\n      <td>0</td>\n    </tr>\n    <tr>\n      <th>4</th>\n      <td>0</td>\n      <td>0</td>\n      <td>0</td>\n      <td>0</td>\n      <td>0</td>\n    </tr>\n    <tr>\n      <th>...</th>\n      <td>...</td>\n      <td>...</td>\n      <td>...</td>\n      <td>...</td>\n      <td>...</td>\n    </tr>\n    <tr>\n      <th>987</th>\n      <td>1</td>\n      <td>1</td>\n      <td>1</td>\n      <td>1</td>\n      <td>1</td>\n    </tr>\n    <tr>\n      <th>988</th>\n      <td>1</td>\n      <td>1</td>\n      <td>1</td>\n      <td>1</td>\n      <td>0</td>\n    </tr>\n    <tr>\n      <th>989</th>\n      <td>1</td>\n      <td>1</td>\n      <td>1</td>\n      <td>1</td>\n      <td>1</td>\n    </tr>\n    <tr>\n      <th>990</th>\n      <td>1</td>\n      <td>1</td>\n      <td>1</td>\n      <td>1</td>\n      <td>1</td>\n    </tr>\n    <tr>\n      <th>991</th>\n      <td>1</td>\n      <td>1</td>\n      <td>1</td>\n      <td>1</td>\n      <td>1</td>\n    </tr>\n  </tbody>\n</table>\n<p>992 rows × 5 columns</p>\n</div>"
          },
          "metadata": {}
        }
      ]
    },
    {
      "cell_type": "code",
      "source": [
        "# confusion matrix function\n",
        "import itertools           \n",
        "def plot_confusion_matrix(cm, classes,\n",
        "                          normalize=False,\n",
        "                          title='Confusion matrix',\n",
        "                          cmap=plt.cm.Blues):\n",
        "    \"\"\"\n",
        "    This function prints and plots the confusion matrix.\n",
        "    Normalization can be applied by setting `normalize=True`.\n",
        "    \"\"\"\n",
        "    if normalize:\n",
        "        cm = cm.astype('float') / cm.sum(axis=1)[:, np.newaxis]\n",
        "        print(\"Normalized confusion matrix\")\n",
        "    else:\n",
        "        print('Confusion matrix, without normalization')\n",
        "\n",
        "    print(cm)\n",
        "\n",
        "    plt.imshow(cm, interpolation='nearest', cmap=cmap)\n",
        "    plt.title(title)\n",
        "    plt.colorbar()\n",
        "    tick_marks = np.arange(len(classes))\n",
        "    plt.xticks(tick_marks, classes, rotation=45)\n",
        "    plt.yticks(tick_marks, classes)\n",
        "    plt.grid(False)\n",
        "    fmt = '.2f' if normalize else 'd'\n",
        "    thresh = cm.max() / 2.\n",
        "    for i, j in itertools.product(range(cm.shape[0]), range(cm.shape[1])):\n",
        "        plt.text(j, i, format(cm[i, j], fmt),\n",
        "                 horizontalalignment=\"center\",\n",
        "                 color=\"white\" if cm[i, j] > thresh else \"black\")\n",
        "    plt.tight_layout()\n",
        "    plt.ylabel('True label')\n",
        "    plt.xlabel('Predicted label')"
      ],
      "metadata": {
        "id": "jzmMgBHqXQmZ",
        "execution": {
          "iopub.status.busy": "2022-03-27T01:32:21.953245Z",
          "iopub.execute_input": "2022-03-27T01:32:21.954265Z",
          "iopub.status.idle": "2022-03-27T01:32:21.966739Z",
          "shell.execute_reply.started": "2022-03-27T01:32:21.954209Z",
          "shell.execute_reply": "2022-03-27T01:32:21.966051Z"
        },
        "trusted": true
      },
      "execution_count": null,
      "outputs": []
    },
    {
      "cell_type": "code",
      "source": [
        "acc = np.array([])\n",
        "prec = np.array([])\n",
        "spec = np.array([])\n",
        "sens = np.array([])\n"
      ],
      "metadata": {
        "id": "yHCD1KJCXPOy",
        "execution": {
          "iopub.status.busy": "2022-03-27T01:32:21.991583Z",
          "iopub.execute_input": "2022-03-27T01:32:21.991855Z",
          "iopub.status.idle": "2022-03-27T01:32:22.000336Z",
          "shell.execute_reply.started": "2022-03-27T01:32:21.991819Z",
          "shell.execute_reply": "2022-03-27T01:32:21.999636Z"
        },
        "trusted": true
      },
      "execution_count": null,
      "outputs": []
    },
    {
      "cell_type": "code",
      "source": [
        "# method 1 mean average of k fold method\n",
        "labels=(training_set.class_indices)\n",
        "labels2=dict((v,k) for k,v in labels.items())\n",
        "accuracy1 = []\n",
        "for i in range(N_SPLIT):\n",
        "    predicted_class_indices = data_kfold[i+1]\n",
        "    predictions=[labels2[k] for k in predicted_class_indices]\n",
        "    accuracy1.append(accuracy_score(predictions,test_images.Class))  \n",
        "\n",
        "    # Get the labels of the test images.\n",
        "\n",
        "    test_labels = test_images.Class\n",
        "    test_labels.shape\n",
        "    # argmax returns the index of the max value in a row\n",
        "    cm = confusion_matrix(test_labels, predictions)\n",
        "    # Define the labels of the class indices. These need to match the \n",
        "    # order shown above.\n",
        "    cm_plot_labels = ['benign', 'malignant']\n",
        "    \n",
        "    TP = cm[1,1] # true positive \n",
        "    TN = cm[0,0] # true negatives\n",
        "    FP = cm[1,0] # false positives\n",
        "    FN = cm[0,1] # false negatives\n",
        "\n",
        "    \n",
        "    TPR = TP/(TP+FN) #Sensitivity\n",
        "    TNR = TN/(TN+FP) #Specifity\n",
        "    PPV = TP/(TP+FP) #Precision\n",
        "    NPV = TN/(TN+FN) # Negative predictive value\n",
        "    FPR = FP/(FP+TN) # Fall out or false positive rate\n",
        "    FNR = FN/(TP+FN) # False negative rate\n",
        "    FDR = FP/(TP+FP) # False discovery rate\n",
        "\n",
        "    # Overall accuracy\n",
        "    ACC = (TP+TN)/(TP+FP+FN+TN) #Accuracy\n",
        "\n",
        "    acc = np.append(acc,ACC)\n",
        "    prec = np.append(prec,PPV)\n",
        "    spec = np.append(spec,TNR)\n",
        "    sens = np.append(sens,TPR)\n",
        "    print(\"fold:\",i+1)\n",
        "    print(classification_report(predictions,test_images.Class,digits=3))\n",
        "    #print(f\"Trial Metrics:\")\n",
        "    #print(f\"Sensitivity: {TPR}\\nSpecifity: {TNR}\\nPrecision: {PPV}\\nAccuracy: {ACC}\")\n",
        "\n",
        "average = mean(accuracy1)\n",
        "print(\"Mean Accuracy of K-Fold Method: \",average)"
      ],
      "metadata": {
        "id": "AtdjQ6EMA-nu",
        "execution": {
          "iopub.status.busy": "2022-03-27T01:32:22.001948Z",
          "iopub.execute_input": "2022-03-27T01:32:22.003959Z",
          "iopub.status.idle": "2022-03-27T01:32:22.297502Z",
          "shell.execute_reply.started": "2022-03-27T01:32:22.003928Z",
          "shell.execute_reply": "2022-03-27T01:32:22.295430Z"
        },
        "trusted": true,
        "outputId": "24d662cc-da89-445a-bf7b-64e2c308f51e"
      },
      "execution_count": null,
      "outputs": [
        {
          "name": "stdout",
          "text": "fold: 1\n              precision    recall  f1-score   support\n\n      benign      0.891     0.904     0.897       489\n   malignant      0.905     0.893     0.899       503\n\n    accuracy                          0.898       992\n   macro avg      0.898     0.898     0.898       992\nweighted avg      0.898     0.898     0.898       992\n\nfold: 2\n              precision    recall  f1-score   support\n\n      benign      0.877     0.901     0.889       483\n   malignant      0.903     0.880     0.892       509\n\n    accuracy                          0.890       992\n   macro avg      0.890     0.890     0.890       992\nweighted avg      0.890     0.890     0.890       992\n\nfold: 3\n              precision    recall  f1-score   support\n\n      benign      0.891     0.877     0.884       504\n   malignant      0.875     0.889     0.882       488\n\n    accuracy                          0.883       992\n   macro avg      0.883     0.883     0.883       992\nweighted avg      0.883     0.883     0.883       992\n\nfold: 4\n              precision    recall  f1-score   support\n\n      benign      0.881     0.897     0.889       487\n   malignant      0.899     0.883     0.891       505\n\n    accuracy                          0.890       992\n   macro avg      0.890     0.890     0.890       992\nweighted avg      0.890     0.890     0.890       992\n\nfold: 5\n              precision    recall  f1-score   support\n\n      benign      0.865     0.899     0.882       477\n   malignant      0.903     0.870     0.886       515\n\n    accuracy                          0.884       992\n   macro avg      0.884     0.885     0.884       992\nweighted avg      0.885     0.884     0.884       992\n\nMean Accuracy of K-Fold Method:  0.8891129032258065\n",
          "output_type": "stream"
        }
      ]
    },
    {
      "cell_type": "code",
      "source": [
        "#acc,prec,spec,sens\n",
        "\n",
        "print(f\"Sensitivity mean: {np.mean(sens)}\\nSpecifity mean: {np.mean(spec)}\\nPrecision mean: {np.mean(prec)}\\nAccuracy mean: {np.mean(acc)}\\n\")\n",
        "print(f\"Sensitivity STD: {np.std(sens)}\\nSpecifity STD: {np.std(spec)}\\nPrecision STD: {np.std(prec)}\\nAccuracy STD: {np.std(acc)}\")"
      ],
      "metadata": {
        "id": "yx1cS0p_moW1",
        "execution": {
          "iopub.status.busy": "2022-03-27T01:32:22.298875Z",
          "iopub.execute_input": "2022-03-27T01:32:22.299133Z",
          "iopub.status.idle": "2022-03-27T01:32:22.306911Z",
          "shell.execute_reply.started": "2022-03-27T01:32:22.299097Z",
          "shell.execute_reply": "2022-03-27T01:32:22.306138Z"
        },
        "trusted": true,
        "outputId": "55f560a6-2670-4d46-9dd0-05ea05d67797"
      },
      "execution_count": null,
      "outputs": [
        {
          "name": "stdout",
          "text": "Sensitivity mean: 0.8830433595720741\nSpecifity mean: 0.8956384780468165\nPrecision mean: 0.8971774193548387\nAccuracy mean: 0.8891129032258064\nSensitivity STD: 0.007910667643959585\nSpecifity STD: 0.00956681831393084\nPrecision STD: 0.011261483906265272\nAccuracy STD: 0.0054098418810478895\n",
          "output_type": "stream"
        }
      ]
    },
    {
      "cell_type": "code",
      "source": [
        "ans = test_images.copy()"
      ],
      "metadata": {
        "id": "T_H3GZwAA-nu",
        "execution": {
          "iopub.status.busy": "2022-03-27T01:32:22.308482Z",
          "iopub.execute_input": "2022-03-27T01:32:22.309283Z",
          "iopub.status.idle": "2022-03-27T01:32:22.317023Z",
          "shell.execute_reply.started": "2022-03-27T01:32:22.309245Z",
          "shell.execute_reply": "2022-03-27T01:32:22.316288Z"
        },
        "trusted": true
      },
      "execution_count": null,
      "outputs": []
    },
    {
      "cell_type": "code",
      "source": [
        "# method 2\n",
        "# Taking The Label with Maximum Occurences\n",
        "\n",
        "labels=(training_set.class_indices)\n",
        "labels2=dict((v,k) for k,v in labels.items())\n",
        "import collections \n",
        "for i in range(len(data_kfold)):\n",
        "    co = collections.Counter(data_kfold.loc[i])\n",
        "    co = sorted(co.items(),key=lambda x: x[1],reverse=True)\n",
        "    ans.Class.loc[i] = labels2[co[0][0]]\n",
        "print(\"Accuracy of K-Fold Maximum Occurences Method: \",accuracy_score(test_images.Class,ans.Class))"
      ],
      "metadata": {
        "id": "iS4eboxEA-nv",
        "execution": {
          "iopub.status.busy": "2022-03-27T01:32:22.318538Z",
          "iopub.execute_input": "2022-03-27T01:32:22.319280Z",
          "iopub.status.idle": "2022-03-27T01:32:22.571303Z",
          "shell.execute_reply.started": "2022-03-27T01:32:22.319241Z",
          "shell.execute_reply": "2022-03-27T01:32:22.570582Z"
        },
        "trusted": true,
        "outputId": "0665a364-86aa-47da-e904-3fc9516f7603"
      },
      "execution_count": null,
      "outputs": [
        {
          "name": "stdout",
          "text": "Accuracy of K-Fold Maximum Occurences Method:  0.8961693548387096\n",
          "output_type": "stream"
        }
      ]
    },
    {
      "cell_type": "code",
      "source": [
        "# Get the labels of the test images.\n",
        "\n",
        "test_labels = test_images.Class\n",
        "test_labels.shape\n",
        "# argmax returns the index of the max value in a row\n",
        "cm2 = confusion_matrix(test_labels, ans.Class)\n",
        "# Print the label associated with each class\n",
        " \n",
        "#print(test_set.class_indices)\n",
        "# Define the labels of the class indices. These need to match the \n",
        "# order shown above.\n",
        "cm_plot_labels = ['benign', 'malignant']"
      ],
      "metadata": {
        "id": "I2THAKVHA-nv",
        "execution": {
          "iopub.status.busy": "2022-03-27T01:32:22.572586Z",
          "iopub.execute_input": "2022-03-27T01:32:22.573273Z",
          "iopub.status.idle": "2022-03-27T01:32:22.585588Z",
          "shell.execute_reply.started": "2022-03-27T01:32:22.573234Z",
          "shell.execute_reply": "2022-03-27T01:32:22.584641Z"
        },
        "trusted": true
      },
      "execution_count": null,
      "outputs": []
    },
    {
      "cell_type": "code",
      "source": [
        "plot_confusion_matrix(cm2, cm_plot_labels, title='Confusion Matrix')\n",
        "TP = cm2[1,1] # true positive \n",
        "TN = cm2[0,0] # true negatives\n",
        "FP = cm2[1,0] # false positives\n",
        "FN = cm2[0,1] # false negatives\n",
        "\n",
        "    \n",
        "TPR = TP/(TP+FN) #Sensitivity\n",
        "TNR = TN/(TN+FP) #Specifity\n",
        "PPV = TP/(TP+FP) #Precision\n",
        "NPV = TN/(TN+FN) # Negative predictive value\n",
        "FPR = FP/(FP+TN) # Fall out or false positive rate\n",
        "FNR = FN/(TP+FN) # False negative rate\n",
        "FDR = FP/(TP+FP) # False discovery rate\n",
        "\n",
        "    # Overall accuracy\n",
        "ACC = (TP+TN)/(TP+FP+FN+TN) #Accuracy\n",
        "print(f\"Trial Metrics of mac occurence method:\")\n",
        "print(f\"Sensitivity: {TPR}\\nSpecifity: {TNR}\\nPrecision: {PPV}\\nAccuracy: {ACC}\")"
      ],
      "metadata": {
        "id": "VRFbuPaIA-nv",
        "execution": {
          "iopub.status.busy": "2022-03-27T01:32:22.587047Z",
          "iopub.execute_input": "2022-03-27T01:32:22.587674Z",
          "iopub.status.idle": "2022-03-27T01:32:22.872903Z",
          "shell.execute_reply.started": "2022-03-27T01:32:22.587624Z",
          "shell.execute_reply": "2022-03-27T01:32:22.872216Z"
        },
        "trusted": true,
        "outputId": "f089cb61-7eec-4b8a-c5f1-c49c89cd2e72"
      },
      "execution_count": null,
      "outputs": [
        {
          "name": "stdout",
          "text": "Confusion matrix, without normalization\n[[442  54]\n [ 49 447]]\nTrial Metrics of mac occurence method:\nSensitivity: 0.8922155688622755\nSpecifity: 0.90020366598778\nPrecision: 0.9012096774193549\nAccuracy: 0.8961693548387096\n",
          "output_type": "stream"
        },
        {
          "name": "stderr",
          "text": "/opt/conda/lib/python3.7/site-packages/ipykernel_launcher.py:20: MatplotlibDeprecationWarning: Auto-removal of grids by pcolor() and pcolormesh() is deprecated since 3.5 and will be removed two minor releases later; please call grid(False) first.\n",
          "output_type": "stream"
        },
        {
          "output_type": "display_data",
          "data": {
            "text/plain": "<Figure size 432x288 with 2 Axes>",
            "image/png": "[encoded data removed]"
          },
          "metadata": {}
        }
      ]
    },
    {
      "cell_type": "code",
      "source": [
        "#learning curves for last fold\n",
        "acc = history.history['accuracy']\n",
        "val_acc = history.history['val_accuracy']\n",
        "\n",
        "loss = history.history['loss']\n",
        "val_loss = history.history['val_loss']\n",
        "\n",
        "plt.figure(figsize=(8, 24))\n",
        "plt.subplot(2, 1, 1)\n",
        "plt.plot(acc, label='Training Accuracy')\n",
        "plt.plot(val_acc, label='Validation Accuracy')\n",
        "plt.legend(loc='lower right')\n",
        "plt.ylabel('Accuracy')\n",
        "plt.ylim([min(plt.ylim()),1.1])\n",
        "plt.title('Training and Validation Accuracy')\n",
        "\n",
        "plt.subplot(2, 1, 2)\n",
        "plt.plot(loss, label='Training Loss')\n",
        "plt.plot(val_loss, label='Validation Loss')\n",
        "plt.legend(loc='upper right')\n",
        "plt.ylabel('Cross Entropy')\n",
        "plt.ylim([0,1.0])\n",
        "plt.title('Training and Validation Loss')\n",
        "plt.xlabel('epoch')\n",
        "plt.show()"
      ],
      "metadata": {
        "id": "ytSOFtcB5rnm",
        "execution": {
          "iopub.status.busy": "2022-03-27T01:32:22.877500Z",
          "iopub.execute_input": "2022-03-27T01:32:22.878051Z",
          "iopub.status.idle": "2022-03-27T01:32:23.298911Z",
          "shell.execute_reply.started": "2022-03-27T01:32:22.878020Z",
          "shell.execute_reply": "2022-03-27T01:32:23.298234Z"
        },
        "trusted": true,
        "outputId": "b4808a92-c6ed-4464-ef9a-af24d0fd89af"
      },
      "execution_count": null,
      "outputs": [
        {
          "output_type": "display_data",
          "data": {
            "text/plain": "<Figure size 576x1728 with 2 Axes>",
            "image/png": "[encoded data removed]"
          },
          "metadata": {}
        }
      ]
    }
  ]
}