{
  "metadata": {
    "kernelspec": {
      "language": "python",
      "display_name": "Python 3",
      "name": "python3"
    },
    "language_info": {
      "name": "python",
      "version": "3.7.12",
      "mimetype": "text/x-python",
      "codemirror_mode": {
        "name": "ipython",
        "version": 3
      },
      "pygments_lexer": "ipython3",
      "nbconvert_exporter": "python",
      "file_extension": ".py"
    },
    "colab": {
      "name": "Copy_of_inceptionv3299.ipynb",
      "provenance": [],
      "collapsed_sections": []
    }
  },
  "nbformat_minor": 0,
  "nbformat": 4,
  "cells": [
    {
      "cell_type": "code",
      "source": [
        "                                                                                    \n",
        "import gc\n",
        "import numpy as np # linear algebra\n",
        "import pandas as pd # data processing, CSV file I/O (e.g. pd.read_csv)\n",
        "import os, time, tqdm\n",
        "import matplotlib.pyplot as plt\n",
        "import seaborn as sns\n",
        "from sklearn.metrics import *\n",
        "import tensorflow as tf \n",
        "from functools import partial\n",
        "\n",
        "from sklearn.metrics import classification_report, f1_score\n",
        "from sklearn.model_selection import KFold\n",
        "import shutil\n",
        "import cv2\n",
        "from statistics import mean\n",
        "from tensorflow.keras import layers\n",
        "from tensorflow.keras.layers import Input, Dense, Flatten, Dropout,GlobalAveragePooling2D\n",
        "from tensorflow.keras.models import Model,Sequential\n",
        "from tensorflow.keras.losses import BinaryCrossentropy\n",
        "from tensorflow.keras.metrics import Precision, Recall,accuracy_score\n",
        "from tensorflow.keras.callbacks import EarlyStopping, ModelCheckpoint,ReduceLROnPlateau,CSVLogger\n",
        "from tensorflow.keras import backend as K\n",
        "from tensorflow.keras import applications\n",
        "from tensorflow.keras import optimizers\n",
        "from tensorflow.keras.utils import to_categorical\n",
        "from tensorflow.keras.preprocessing.image import ImageDataGenerator\n",
        "\n"
      ],
      "metadata": {
        "_uuid": "8f2839f25d086af736a60e9eeb907d3b93b6e0e5",
        "_cell_guid": "b1076dfc-b9ad-4769-8c92-a6c4dae69d19",
        "id": "OcQUS1Jsgbxr",
        "execution": {
          "iopub.status.busy": "2022-03-26T19:35:46.067249Z",
          "iopub.execute_input": "2022-03-26T19:35:46.067595Z",
          "iopub.status.idle": "2022-03-26T19:35:53.421112Z",
          "shell.execute_reply.started": "2022-03-26T19:35:46.067493Z",
          "shell.execute_reply": "2022-03-26T19:35:53.420347Z"
        },
        "trusted": true
      },
      "execution_count": null,
      "outputs": []
    },
    {
      "cell_type": "code",
      "source": [
        "image_dir = '../input/breakhis/BreaKHis_v1'\n",
        "data_path = '../input/breakhis/Folds.csv'\n",
        "\n",
        "\n",
        "# defining the class names\n",
        "class_names = ['malignant', 'benign']\n",
        "print(class_names)"
      ],
      "metadata": {
        "id": "8qh_ib-ggbxz",
        "outputId": "5d72dfa5-91df-4d63-8a82-b727a6111028",
        "execution": {
          "iopub.status.busy": "2022-03-26T19:35:53.436033Z",
          "iopub.execute_input": "2022-03-26T19:35:53.436444Z",
          "iopub.status.idle": "2022-03-26T19:35:53.450741Z",
          "shell.execute_reply.started": "2022-03-26T19:35:53.436411Z",
          "shell.execute_reply": "2022-03-26T19:35:53.450013Z"
        },
        "trusted": true
      },
      "execution_count": null,
      "outputs": [
        {
          "name": "stdout",
          "text": "['malignant', 'benign']\n",
          "output_type": "stream"
        }
      ]
    },
    {
      "cell_type": "code",
      "source": [
        "data = pd.read_csv(data_path)\n",
        "data.head(5)\n",
        "data.drop"
      ],
      "metadata": {
        "id": "rS8uZ9Cwgbx1",
        "outputId": "f414be1c-3751-4f3c-94aa-58cfb8ba7f16",
        "execution": {
          "iopub.status.busy": "2022-03-26T19:35:53.453212Z",
          "iopub.execute_input": "2022-03-26T19:35:53.453799Z",
          "iopub.status.idle": "2022-03-26T19:35:53.587117Z",
          "shell.execute_reply.started": "2022-03-26T19:35:53.453762Z",
          "shell.execute_reply": "2022-03-26T19:35:53.586297Z"
        },
        "trusted": true
      },
      "execution_count": null,
      "outputs": [
        {
          "execution_count": 4,
          "output_type": "execute_result",
          "data": {
            "text/plain": "<bound method DataFrame.drop of        fold  mag    grp                                           filename\n0         1  100  train  BreaKHis_v1/histology_slides/breast/benign/SOB...\n1         1  100  train  BreaKHis_v1/histology_slides/breast/benign/SOB...\n2         1  100  train  BreaKHis_v1/histology_slides/breast/benign/SOB...\n3         1  100  train  BreaKHis_v1/histology_slides/breast/benign/SOB...\n4         1  100  train  BreaKHis_v1/histology_slides/breast/benign/SOB...\n...     ...  ...    ...                                                ...\n39540     5  400   test  BreaKHis_v1/histology_slides/breast/malignant/...\n39541     5  400   test  BreaKHis_v1/histology_slides/breast/malignant/...\n39542     5  400   test  BreaKHis_v1/histology_slides/breast/malignant/...\n39543     5  400   test  BreaKHis_v1/histology_slides/breast/malignant/...\n39544     5  400   test  BreaKHis_v1/histology_slides/breast/malignant/...\n\n[39545 rows x 4 columns]>"
          },
          "metadata": {}
        }
      ]
    },
    {
      "cell_type": "code",
      "source": [
        "data['fold'].value_counts()"
      ],
      "metadata": {
        "id": "xjtOugpagbx2",
        "execution": {
          "iopub.status.busy": "2022-03-26T19:35:53.589506Z",
          "iopub.execute_input": "2022-03-26T19:35:53.589936Z",
          "iopub.status.idle": "2022-03-26T19:35:53.601666Z",
          "shell.execute_reply.started": "2022-03-26T19:35:53.589897Z",
          "shell.execute_reply": "2022-03-26T19:35:53.600834Z"
        },
        "trusted": true,
        "outputId": "fa809539-8ed2-4503-e3cf-c1ae6029b8f4"
      },
      "execution_count": null,
      "outputs": [
        {
          "execution_count": 5,
          "output_type": "execute_result",
          "data": {
            "text/plain": "1    7909\n2    7909\n3    7909\n4    7909\n5    7909\nName: fold, dtype: int64"
          },
          "metadata": {}
        }
      ]
    },
    {
      "cell_type": "code",
      "source": [
        "data = data.rename(columns={'filename': 'path'})\n",
        "data['label'] = data.path.apply(lambda x: x.split('/')[3])\n",
        "data['label_int'] = data.label.apply(lambda x: class_names.index(x))\n",
        "data['filename'] = data.path.apply(lambda x: x.split('/')[-1])"
      ],
      "metadata": {
        "id": "k6yX7figgbx2",
        "execution": {
          "iopub.status.busy": "2022-03-26T19:35:53.603146Z",
          "iopub.execute_input": "2022-03-26T19:35:53.603786Z",
          "iopub.status.idle": "2022-03-26T19:35:53.689091Z",
          "shell.execute_reply.started": "2022-03-26T19:35:53.603745Z",
          "shell.execute_reply": "2022-03-26T19:35:53.688462Z"
        },
        "trusted": true
      },
      "execution_count": null,
      "outputs": []
    },
    {
      "cell_type": "code",
      "source": [
        "data.head(6)"
      ],
      "metadata": {
        "id": "SIfdRIcOgbx3",
        "execution": {
          "iopub.status.busy": "2022-03-26T19:35:53.690480Z",
          "iopub.execute_input": "2022-03-26T19:35:53.690961Z",
          "iopub.status.idle": "2022-03-26T19:35:53.704142Z",
          "shell.execute_reply.started": "2022-03-26T19:35:53.690925Z",
          "shell.execute_reply": "2022-03-26T19:35:53.703190Z"
        },
        "trusted": true,
        "outputId": "7dac01ed-5d7d-447b-fc72-37014cc75670"
      },
      "execution_count": null,
      "outputs": [
        {
          "execution_count": 7,
          "output_type": "execute_result",
          "data": {
            "text/plain": "   fold  mag    grp                                               path  \\\n0     1  100  train  BreaKHis_v1/histology_slides/breast/benign/SOB...   \n1     1  100  train  BreaKHis_v1/histology_slides/breast/benign/SOB...   \n2     1  100  train  BreaKHis_v1/histology_slides/breast/benign/SOB...   \n3     1  100  train  BreaKHis_v1/histology_slides/breast/benign/SOB...   \n4     1  100  train  BreaKHis_v1/histology_slides/breast/benign/SOB...   \n5     1  100  train  BreaKHis_v1/histology_slides/breast/benign/SOB...   \n\n    label  label_int                        filename  \n0  benign          1  SOB_B_A-14-22549AB-100-001.png  \n1  benign          1  SOB_B_A-14-22549AB-100-002.png  \n2  benign          1  SOB_B_A-14-22549AB-100-003.png  \n3  benign          1  SOB_B_A-14-22549AB-100-004.png  \n4  benign          1  SOB_B_A-14-22549AB-100-005.png  \n5  benign          1  SOB_B_A-14-22549AB-100-006.png  ",
            "text/html": "<div>\n<style scoped>\n    .dataframe tbody tr th:only-of-type {\n        vertical-align: middle;\n    }\n\n    .dataframe tbody tr th {\n        vertical-align: top;\n    }\n\n    .dataframe thead th {\n        text-align: right;\n    }\n</style>\n<table border=\"1\" class=\"dataframe\">\n  <thead>\n    <tr style=\"text-align: right;\">\n      <th></th>\n      <th>fold</th>\n      <th>mag</th>\n      <th>grp</th>\n      <th>path</th>\n      <th>label</th>\n      <th>label_int</th>\n      <th>filename</th>\n    </tr>\n  </thead>\n  <tbody>\n    <tr>\n      <th>0</th>\n      <td>1</td>\n      <td>100</td>\n      <td>train</td>\n      <td>BreaKHis_v1/histology_slides/breast/benign/SOB...</td>\n      <td>benign</td>\n      <td>1</td>\n      <td>SOB_B_A-14-22549AB-100-001.png</td>\n    </tr>\n    <tr>\n      <th>1</th>\n      <td>1</td>\n      <td>100</td>\n      <td>train</td>\n      <td>BreaKHis_v1/histology_slides/breast/benign/SOB...</td>\n      <td>benign</td>\n      <td>1</td>\n      <td>SOB_B_A-14-22549AB-100-002.png</td>\n    </tr>\n    <tr>\n      <th>2</th>\n      <td>1</td>\n      <td>100</td>\n      <td>train</td>\n      <td>BreaKHis_v1/histology_slides/breast/benign/SOB...</td>\n      <td>benign</td>\n      <td>1</td>\n      <td>SOB_B_A-14-22549AB-100-003.png</td>\n    </tr>\n    <tr>\n      <th>3</th>\n      <td>1</td>\n      <td>100</td>\n      <td>train</td>\n      <td>BreaKHis_v1/histology_slides/breast/benign/SOB...</td>\n      <td>benign</td>\n      <td>1</td>\n      <td>SOB_B_A-14-22549AB-100-004.png</td>\n    </tr>\n    <tr>\n      <th>4</th>\n      <td>1</td>\n      <td>100</td>\n      <td>train</td>\n      <td>BreaKHis_v1/histology_slides/breast/benign/SOB...</td>\n      <td>benign</td>\n      <td>1</td>\n      <td>SOB_B_A-14-22549AB-100-005.png</td>\n    </tr>\n    <tr>\n      <th>5</th>\n      <td>1</td>\n      <td>100</td>\n      <td>train</td>\n      <td>BreaKHis_v1/histology_slides/breast/benign/SOB...</td>\n      <td>benign</td>\n      <td>1</td>\n      <td>SOB_B_A-14-22549AB-100-006.png</td>\n    </tr>\n  </tbody>\n</table>\n</div>"
          },
          "metadata": {}
        }
      ]
    },
    {
      "cell_type": "code",
      "source": [
        "data = data.loc[data['fold']== 1]\n",
        "data.shape\n",
        "data.reset_index(drop=True)\n",
        "data_copy = data\n"
      ],
      "metadata": {
        "id": "wxwFttd9gbx4",
        "execution": {
          "iopub.status.busy": "2022-03-26T19:35:53.705929Z",
          "iopub.execute_input": "2022-03-26T19:35:53.706206Z",
          "iopub.status.idle": "2022-03-26T19:35:53.718189Z",
          "shell.execute_reply.started": "2022-03-26T19:35:53.706171Z",
          "shell.execute_reply": "2022-03-26T19:35:53.717546Z"
        },
        "trusted": true
      },
      "execution_count": null,
      "outputs": []
    },
    {
      "cell_type": "code",
      "source": [
        "# Create a new directory to store all available images\n",
        "all_images_dir = 'all_images_dir'\n",
        "os.mkdir(all_images_dir)"
      ],
      "metadata": {
        "id": "erEIJ5eWgbx5",
        "execution": {
          "iopub.status.busy": "2022-03-26T19:35:53.719452Z",
          "iopub.execute_input": "2022-03-26T19:35:53.719725Z",
          "iopub.status.idle": "2022-03-26T19:35:53.723797Z",
          "shell.execute_reply.started": "2022-03-26T19:35:53.719693Z",
          "shell.execute_reply": "2022-03-26T19:35:53.722900Z"
        },
        "trusted": true
      },
      "execution_count": null,
      "outputs": []
    },
    {
      "cell_type": "code",
      "source": [
        "\n",
        "data['path'][0]"
      ],
      "metadata": {
        "id": "ASixo97Ggbx6",
        "execution": {
          "iopub.status.busy": "2022-03-26T19:35:53.727684Z",
          "iopub.execute_input": "2022-03-26T19:35:53.727998Z",
          "iopub.status.idle": "2022-03-26T19:35:53.733934Z",
          "shell.execute_reply.started": "2022-03-26T19:35:53.727961Z",
          "shell.execute_reply": "2022-03-26T19:35:53.733001Z"
        },
        "trusted": true,
        "outputId": "a6054366-8887-4440-d06d-e5fd40338c87"
      },
      "execution_count": null,
      "outputs": [
        {
          "execution_count": 10,
          "output_type": "execute_result",
          "data": {
            "text/plain": "'BreaKHis_v1/histology_slides/breast/benign/SOB/adenosis/SOB_B_A_14-22549AB/100X/SOB_B_A-14-22549AB-100-001.png'"
          },
          "metadata": {}
        }
      ]
    },
    {
      "cell_type": "code",
      "source": [
        "print(len(data))"
      ],
      "metadata": {
        "id": "5tn2ZVSngbx7",
        "outputId": "53733630-5fd3-4cce-ae06-3a871490d0b2",
        "execution": {
          "iopub.status.busy": "2022-03-26T19:35:53.735494Z",
          "iopub.execute_input": "2022-03-26T19:35:53.735980Z",
          "iopub.status.idle": "2022-03-26T19:35:53.742360Z",
          "shell.execute_reply.started": "2022-03-26T19:35:53.735943Z",
          "shell.execute_reply": "2022-03-26T19:35:53.741460Z"
        },
        "trusted": true
      },
      "execution_count": null,
      "outputs": [
        {
          "name": "stdout",
          "text": "7909\n",
          "output_type": "stream"
        }
      ]
    },
    {
      "cell_type": "code",
      "source": [
        "# This code copies all images from their seperate folders into the same \n",
        "# folder called all_images_dir.\n",
        "\n",
        "for i in range(len(data)):\n",
        "    src = os.path.join('../input/breakhis/BreaKHis_v1', data['path'][i])\n",
        "    dst = os.path.join('./all_images_dir', data['filename'][i])\n",
        "    shutil.copyfile(src, dst)\n"
      ],
      "metadata": {
        "id": "uL8Bv-NBgbx7",
        "execution": {
          "iopub.status.busy": "2022-03-26T19:35:53.743845Z",
          "iopub.execute_input": "2022-03-26T19:35:53.744377Z",
          "iopub.status.idle": "2022-03-26T19:37:11.304302Z",
          "shell.execute_reply.started": "2022-03-26T19:35:53.744341Z",
          "shell.execute_reply": "2022-03-26T19:37:11.303576Z"
        },
        "trusted": true
      },
      "execution_count": null,
      "outputs": []
    },
    {
      "cell_type": "code",
      "source": [
        "len(os.listdir('./all_images_dir'))"
      ],
      "metadata": {
        "id": "1dkiL5aBgbx8",
        "outputId": "45096909-39fb-41bb-f16c-0bc4cbcce7e7",
        "execution": {
          "iopub.status.busy": "2022-03-26T19:37:11.306493Z",
          "iopub.execute_input": "2022-03-26T19:37:11.307068Z",
          "iopub.status.idle": "2022-03-26T19:37:11.318114Z",
          "shell.execute_reply.started": "2022-03-26T19:37:11.307026Z",
          "shell.execute_reply": "2022-03-26T19:37:11.317237Z"
        },
        "trusted": true
      },
      "execution_count": null,
      "outputs": [
        {
          "execution_count": 13,
          "output_type": "execute_result",
          "data": {
            "text/plain": "7909"
          },
          "metadata": {}
        }
      ]
    },
    {
      "cell_type": "code",
      "source": [
        "image_list = os.listdir('all_images_dir')\n",
        "\n",
        "df_data = pd.DataFrame(image_list, columns=['image_id'])\n",
        "\n",
        "\n",
        "\n",
        "df_data.head()\n"
      ],
      "metadata": {
        "id": "S0qsA3frgbx8",
        "outputId": "eb1b3e01-a79c-4c1d-c6b3-9ba9b12844ca",
        "execution": {
          "iopub.status.busy": "2022-03-26T19:37:11.319470Z",
          "iopub.execute_input": "2022-03-26T19:37:11.319734Z",
          "iopub.status.idle": "2022-03-26T19:37:11.343675Z",
          "shell.execute_reply.started": "2022-03-26T19:37:11.319701Z",
          "shell.execute_reply": "2022-03-26T19:37:11.342907Z"
        },
        "trusted": true
      },
      "execution_count": null,
      "outputs": [
        {
          "execution_count": 14,
          "output_type": "execute_result",
          "data": {
            "text/plain": "                          image_id\n0  SOB_M_MC-14-13418DE-100-009.png\n1    SOB_M_DC-14-16188-100-005.png\n2     SOB_M_DC-14-2980-100-007.png\n3    SOB_B_PT-14-22704-100-002.png\n4    SOB_B_PT-14-22704-200-018.png",
            "text/html": "<div>\n<style scoped>\n    .dataframe tbody tr th:only-of-type {\n        vertical-align: middle;\n    }\n\n    .dataframe tbody tr th {\n        vertical-align: top;\n    }\n\n    .dataframe thead th {\n        text-align: right;\n    }\n</style>\n<table border=\"1\" class=\"dataframe\">\n  <thead>\n    <tr style=\"text-align: right;\">\n      <th></th>\n      <th>image_id</th>\n    </tr>\n  </thead>\n  <tbody>\n    <tr>\n      <th>0</th>\n      <td>SOB_M_MC-14-13418DE-100-009.png</td>\n    </tr>\n    <tr>\n      <th>1</th>\n      <td>SOB_M_DC-14-16188-100-005.png</td>\n    </tr>\n    <tr>\n      <th>2</th>\n      <td>SOB_M_DC-14-2980-100-007.png</td>\n    </tr>\n    <tr>\n      <th>3</th>\n      <td>SOB_B_PT-14-22704-100-002.png</td>\n    </tr>\n    <tr>\n      <th>4</th>\n      <td>SOB_B_PT-14-22704-200-018.png</td>\n    </tr>\n  </tbody>\n</table>\n</div>"
          },
          "metadata": {}
        }
      ]
    },
    {
      "cell_type": "code",
      "source": [
        "data2 = pd.DataFrame()\n",
        "for i in range(len(df_data)):\n",
        "    data1 = data.loc[data['filename']== df_data['image_id'][i]]\n",
        "    data2 = data2.append(data1, ignore_index = True)"
      ],
      "metadata": {
        "id": "wQDyvQHRgbx9",
        "execution": {
          "iopub.status.busy": "2022-03-26T19:37:11.345025Z",
          "iopub.execute_input": "2022-03-26T19:37:11.345270Z",
          "iopub.status.idle": "2022-03-26T19:37:32.467589Z",
          "shell.execute_reply.started": "2022-03-26T19:37:11.345237Z",
          "shell.execute_reply": "2022-03-26T19:37:32.466861Z"
        },
        "trusted": true
      },
      "execution_count": null,
      "outputs": []
    },
    {
      "cell_type": "code",
      "source": [
        "\n",
        "data = data2[['filename','label']]           # only extract the image and class from the dataframe\n",
        "data = data.rename(columns={\"filename\":\"Image\"})\n",
        "data = data.rename(columns={\"label\":\"Class\"})\n",
        "data.head()\n",
        "hold_data = data\n",
        "hold_data.head()"
      ],
      "metadata": {
        "id": "4MCJNVwmgbx9",
        "outputId": "df599d65-62f5-4d95-e705-7fc53f647ad6",
        "execution": {
          "iopub.status.busy": "2022-03-26T19:37:32.469053Z",
          "iopub.execute_input": "2022-03-26T19:37:32.469292Z",
          "iopub.status.idle": "2022-03-26T19:37:32.485979Z",
          "shell.execute_reply.started": "2022-03-26T19:37:32.469258Z",
          "shell.execute_reply": "2022-03-26T19:37:32.485289Z"
        },
        "trusted": true
      },
      "execution_count": null,
      "outputs": [
        {
          "execution_count": 16,
          "output_type": "execute_result",
          "data": {
            "text/plain": "                             Image      Class\n0  SOB_M_MC-14-13418DE-100-009.png  malignant\n1    SOB_M_DC-14-16188-100-005.png  malignant\n2     SOB_M_DC-14-2980-100-007.png  malignant\n3    SOB_B_PT-14-22704-100-002.png     benign\n4    SOB_B_PT-14-22704-200-018.png     benign",
            "text/html": "<div>\n<style scoped>\n    .dataframe tbody tr th:only-of-type {\n        vertical-align: middle;\n    }\n\n    .dataframe tbody tr th {\n        vertical-align: top;\n    }\n\n    .dataframe thead th {\n        text-align: right;\n    }\n</style>\n<table border=\"1\" class=\"dataframe\">\n  <thead>\n    <tr style=\"text-align: right;\">\n      <th></th>\n      <th>Image</th>\n      <th>Class</th>\n    </tr>\n  </thead>\n  <tbody>\n    <tr>\n      <th>0</th>\n      <td>SOB_M_MC-14-13418DE-100-009.png</td>\n      <td>malignant</td>\n    </tr>\n    <tr>\n      <th>1</th>\n      <td>SOB_M_DC-14-16188-100-005.png</td>\n      <td>malignant</td>\n    </tr>\n    <tr>\n      <th>2</th>\n      <td>SOB_M_DC-14-2980-100-007.png</td>\n      <td>malignant</td>\n    </tr>\n    <tr>\n      <th>3</th>\n      <td>SOB_B_PT-14-22704-100-002.png</td>\n      <td>benign</td>\n    </tr>\n    <tr>\n      <th>4</th>\n      <td>SOB_B_PT-14-22704-200-018.png</td>\n      <td>benign</td>\n    </tr>\n  </tbody>\n</table>\n</div>"
          },
          "metadata": {}
        }
      ]
    },
    {
      "cell_type": "code",
      "source": [
        "sns.set_theme()\n",
        "sns.displot(x='Class', data=data)\n",
        "data['Class'].value_counts()"
      ],
      "metadata": {
        "id": "LNSqMdjrgbx_",
        "outputId": "56af0b41-5846-4cf5-e8b2-1a5b62910b11",
        "execution": {
          "iopub.status.busy": "2022-03-26T19:37:32.495714Z",
          "iopub.execute_input": "2022-03-26T19:37:32.496020Z",
          "iopub.status.idle": "2022-03-26T19:37:32.832963Z",
          "shell.execute_reply.started": "2022-03-26T19:37:32.495968Z",
          "shell.execute_reply": "2022-03-26T19:37:32.832310Z"
        },
        "trusted": true
      },
      "execution_count": null,
      "outputs": [
        {
          "execution_count": 18,
          "output_type": "execute_result",
          "data": {
            "text/plain": "malignant    5429\nbenign       2480\nName: Class, dtype: int64"
          },
          "metadata": {}
        },
        {
          "output_type": "display_data",
          "data": {
            "text/plain": "<Figure size 360x360 with 1 Axes>",
            "image/png": "[encoded data removed]"
          },
          "metadata": {}
        }
      ]
    },
    {
      "cell_type": "markdown",
      "source": [
        "**Data splits**"
      ],
      "metadata": {
        "id": "7-k3tclMgbyA"
      }
    },
    {
      "cell_type": "code",
      "source": [
        "data = hold_data\n",
        "min_count = np.min(data.Class.value_counts()) \n",
        "data = data.groupby('Class').sample(n=min_count, replace=True)   #set n to number of images for class\n",
        "data = data.reset_index(drop=True)\n",
        "print(\"number of data images:\",data['Class'].value_counts())"
      ],
      "metadata": {
        "execution": {
          "iopub.status.busy": "2022-03-26T19:37:32.840524Z",
          "iopub.execute_input": "2022-03-26T19:37:32.840967Z",
          "iopub.status.idle": "2022-03-26T19:37:32.863316Z",
          "shell.execute_reply.started": "2022-03-26T19:37:32.840900Z",
          "shell.execute_reply": "2022-03-26T19:37:32.862310Z"
        },
        "trusted": true,
        "id": "DxzO1j2c2RLr",
        "outputId": "f0442abc-1199-4066-84fd-3e12f3efdf3b"
      },
      "execution_count": null,
      "outputs": [
        {
          "name": "stdout",
          "text": "number of data images: benign       2480\nmalignant    2480\nName: Class, dtype: int64\n",
          "output_type": "stream"
        }
      ]
    },
    {
      "cell_type": "code",
      "source": [
        "test_images = data.groupby(by='Class').sample(496)\n",
        "train_images = data.drop(test_images.index).reset_index(drop=True)\n",
        "test_images = test_images.reset_index(drop=True)\n",
        "test_images['Class'].value_counts()"
      ],
      "metadata": {
        "id": "VciduO83gbyB",
        "outputId": "22a1ec43-09f6-4129-c5b4-a073b9115b3c",
        "execution": {
          "iopub.status.busy": "2022-03-26T19:37:32.864727Z",
          "iopub.execute_input": "2022-03-26T19:37:32.864985Z",
          "iopub.status.idle": "2022-03-26T19:37:32.878084Z",
          "shell.execute_reply.started": "2022-03-26T19:37:32.864950Z",
          "shell.execute_reply": "2022-03-26T19:37:32.877301Z"
        },
        "trusted": true
      },
      "execution_count": null,
      "outputs": [
        {
          "execution_count": 21,
          "output_type": "execute_result",
          "data": {
            "text/plain": "benign       496\nmalignant    496\nName: Class, dtype: int64"
          },
          "metadata": {}
        }
      ]
    },
    {
      "cell_type": "code",
      "source": [
        "val_images = train_images.groupby(by='Class').sample(496)\n",
        "train_images = train_images.drop(val_images.index).reset_index(drop=True)\n",
        "val_images = val_images.reset_index(drop=True)\n",
        "val_images['Class'].value_counts()\n"
      ],
      "metadata": {
        "execution": {
          "iopub.status.busy": "2022-03-26T19:37:32.879201Z",
          "iopub.execute_input": "2022-03-26T19:37:32.879874Z",
          "iopub.status.idle": "2022-03-26T19:37:32.892943Z",
          "shell.execute_reply.started": "2022-03-26T19:37:32.879835Z",
          "shell.execute_reply": "2022-03-26T19:37:32.892189Z"
        },
        "trusted": true,
        "id": "p3NbNqV12RLs",
        "outputId": "6e4d0503-ad2b-4e45-a32b-5b00dd679101"
      },
      "execution_count": null,
      "outputs": [
        {
          "execution_count": 22,
          "output_type": "execute_result",
          "data": {
            "text/plain": "benign       496\nmalignant    496\nName: Class, dtype: int64"
          },
          "metadata": {}
        }
      ]
    },
    {
      "cell_type": "code",
      "source": [
        "print(train_images['Class'].value_counts())\n",
        "X_test = test_images\n",
        "X_valid = val_images\n",
        "X_train = train_images"
      ],
      "metadata": {
        "execution": {
          "iopub.status.busy": "2022-03-26T19:37:32.894175Z",
          "iopub.execute_input": "2022-03-26T19:37:32.894426Z",
          "iopub.status.idle": "2022-03-26T19:37:32.900308Z",
          "shell.execute_reply.started": "2022-03-26T19:37:32.894390Z",
          "shell.execute_reply": "2022-03-26T19:37:32.899673Z"
        },
        "trusted": true,
        "id": "GuDYU99Y2RLt",
        "outputId": "75d5735f-a12a-479f-b137-253a188e6d8f"
      },
      "execution_count": null,
      "outputs": [
        {
          "name": "stdout",
          "text": "benign       1488\nmalignant    1488\nName: Class, dtype: int64\n",
          "output_type": "stream"
        }
      ]
    },
    {
      "cell_type": "code",
      "source": [
        "#Storing the average of all predictions\n",
        "\n",
        "main_pred = []\n",
        "error = []\n",
        "data_kfold = pd.DataFrame()\n",
        "# Creating X, Y for training \n",
        "\n"
      ],
      "metadata": {
        "id": "YIa9w8fLgbyC",
        "execution": {
          "iopub.status.busy": "2022-03-26T19:37:32.932886Z",
          "iopub.execute_input": "2022-03-26T19:37:32.933662Z",
          "iopub.status.idle": "2022-03-26T19:37:32.939545Z",
          "shell.execute_reply.started": "2022-03-26T19:37:32.933623Z",
          "shell.execute_reply": "2022-03-26T19:37:32.938785Z"
        },
        "trusted": true
      },
      "execution_count": null,
      "outputs": []
    },
    {
      "cell_type": "code",
      "source": [
        "IMG_SIZE = 299\n",
        "BATCH_SIZE = 32\n",
        "EPOCHS = 100\n",
        "TRAIN_PATH = './all_images_dir'"
      ],
      "metadata": {
        "id": "dGpVUat7gbyD",
        "execution": {
          "iopub.status.busy": "2022-03-26T19:37:32.945648Z",
          "iopub.execute_input": "2022-03-26T19:37:32.946089Z",
          "iopub.status.idle": "2022-03-26T19:37:32.949498Z",
          "shell.execute_reply.started": "2022-03-26T19:37:32.946062Z",
          "shell.execute_reply": "2022-03-26T19:37:32.948654Z"
        },
        "trusted": true
      },
      "execution_count": null,
      "outputs": []
    },
    {
      "cell_type": "code",
      "source": [
        "early_stopping = EarlyStopping(\n",
        "    min_delta=0.0001,   # minimium amount of change to count as an improvement\n",
        "    patience=10,   # how many epochs to wait before stopping\n",
        "    restore_best_weights=True,)\n",
        "\n",
        "reduce_lr = ReduceLROnPlateau(monitor='val_loss', factor=0.2,\n",
        "                              patience=3, min_lr=0.000001,verbose = 1) #LR is multiplied by 'factor' if there is no improvement\n",
        "\n",
        "csv_logger = CSVLogger('log.csv', append=True, separator=';')"
      ],
      "metadata": {
        "id": "1MmBN57zgbyD",
        "execution": {
          "iopub.status.busy": "2022-03-26T19:37:32.950968Z",
          "iopub.execute_input": "2022-03-26T19:37:32.951414Z",
          "iopub.status.idle": "2022-03-26T19:37:32.959367Z",
          "shell.execute_reply.started": "2022-03-26T19:37:32.951375Z",
          "shell.execute_reply": "2022-03-26T19:37:32.958515Z"
        },
        "trusted": true
      },
      "execution_count": null,
      "outputs": []
    },
    {
      "cell_type": "markdown",
      "source": [
        "**model initialization**"
      ],
      "metadata": {
        "id": "3dR1eg40gbyD"
      }
    },
    {
      "cell_type": "code",
      "source": [
        "def get_model(IMG_SIZE):\n",
        "    from tensorflow.keras.applications import InceptionV3\n",
        "    pre_trained_model = InceptionV3(input_shape=(IMG_SIZE, IMG_SIZE, 3), include_top=False)\n",
        "    for layer in pre_trained_model.layers:\n",
        "        layer.trainable = False\n",
        "\n",
        "    last_layer = pre_trained_model\n",
        "    last_output = last_layer.output\n",
        "    \n",
        "    x= GlobalAveragePooling2D()(last_output)\n",
        "    x = layers.Flatten()(x)\n",
        "    \n",
        "    x = Dense(1024, activation=\"relu\")(x)\n",
        "    x = Dense(1024, activation=\"relu\")(x)\n",
        "    x = Dense(512, activation=\"relu\")(x)\n",
        "    x = Dense(2, activation=\"softmax\")(x)\n",
        "\n",
        "    model = Model(pre_trained_model.input, x)\n",
        "\n",
        "    model.compile(loss='categorical_crossentropy',\n",
        "                  optimizer=tf.keras.optimizers.Adam(learning_rate=0.000005),\n",
        "                  metrics=['accuracy'])\n",
        "\n",
        "    return model"
      ],
      "metadata": {
        "id": "4po9P6SogbyD",
        "execution": {
          "iopub.status.busy": "2022-03-26T19:37:32.960652Z",
          "iopub.execute_input": "2022-03-26T19:37:32.961578Z",
          "iopub.status.idle": "2022-03-26T19:37:32.970658Z",
          "shell.execute_reply.started": "2022-03-26T19:37:32.961540Z",
          "shell.execute_reply": "2022-03-26T19:37:32.969892Z"
        },
        "trusted": true
      },
      "execution_count": null,
      "outputs": []
    },
    {
      "cell_type": "markdown",
      "source": [
        "**Data Generators**"
      ],
      "metadata": {
        "id": "3Upw2cBn30j_"
      }
    },
    {
      "cell_type": "code",
      "source": [
        "#Initializing Data Generators\n",
        "test_generator = ImageDataGenerator(preprocessing_function=tf.keras.applications.inception_v3.preprocess_input)\n",
        "\n",
        "train_datagen = ImageDataGenerator(preprocessing_function=tf.keras.applications.inception_v3.preprocess_input)\n",
        "                                     \n",
        "validation_datagen = ImageDataGenerator(preprocessing_function=tf.keras.applications.inception_v3.preprocess_input)\n",
        "\n",
        "    \n",
        "test_set = test_generator.flow_from_dataframe(dataframe=X_test, directory=TRAIN_PATH,\n",
        "                                                 x_col=\"Image\",y_col=\"Class\",\n",
        "                                                 shuffle = False,\n",
        "                                                 class_mode=\"categorical\",\n",
        "                                                 target_size=(IMG_SIZE,IMG_SIZE))\n",
        "\n",
        "\n",
        "training_set = train_datagen.flow_from_dataframe(dataframe=X_train, directory=TRAIN_PATH,\n",
        "                                                 x_col=\"Image\", y_col=\"Class\",\n",
        "                                                 class_mode=\"categorical\",\n",
        "                                                 target_size=(IMG_SIZE,IMG_SIZE), batch_size=BATCH_SIZE)\n",
        "    \n",
        "validation_set = validation_datagen.flow_from_dataframe(dataframe=X_valid, directory=TRAIN_PATH,\n",
        "                                                 x_col=\"Image\", y_col=\"Class\",\n",
        "                                                 class_mode=\"categorical\",\n",
        "                                                 target_size=(IMG_SIZE,IMG_SIZE), batch_size=BATCH_SIZE)\n",
        "    \n"
      ],
      "metadata": {
        "id": "K0vuDxo6gbyE",
        "outputId": "b6e5e433-8f35-42df-e659-22e778f97a33",
        "execution": {
          "iopub.status.busy": "2022-03-26T19:37:32.971996Z",
          "iopub.execute_input": "2022-03-26T19:37:32.972934Z",
          "iopub.status.idle": "2022-03-26T19:37:33.043446Z",
          "shell.execute_reply.started": "2022-03-26T19:37:32.972896Z",
          "shell.execute_reply": "2022-03-26T19:37:33.042787Z"
        },
        "trusted": true
      },
      "execution_count": null,
      "outputs": [
        {
          "name": "stdout",
          "text": "Found 992 validated image filenames belonging to 2 classes.\nFound 2976 validated image filenames belonging to 2 classes.\nFound 992 validated image filenames belonging to 2 classes.\n",
          "output_type": "stream"
        }
      ]
    },
    {
      "cell_type": "markdown",
      "source": [
        "**Model training**"
      ],
      "metadata": {
        "id": "9TScbjoP37R_"
      }
    },
    {
      "cell_type": "code",
      "source": [
        "model_test = get_model(IMG_SIZE)                        \n",
        "history = model_test.fit(training_set,\n",
        "                                    validation_data=validation_set,\n",
        "                                    epochs = EPOCHS,\n",
        "                                    steps_per_epoch=len(training_set),\n",
        "                                    callbacks = [early_stopping,reduce_lr,csv_logger]\n",
        "                                  )"
      ],
      "metadata": {
        "id": "iKIdCMoxgbyE",
        "outputId": "53ff9219-412c-4d78-abfd-518986a65b4c",
        "execution": {
          "iopub.status.busy": "2022-03-26T19:37:33.051742Z",
          "iopub.execute_input": "2022-03-26T19:37:33.052650Z",
          "iopub.status.idle": "2022-03-26T20:54:07.079508Z",
          "shell.execute_reply.started": "2022-03-26T19:37:33.052609Z",
          "shell.execute_reply": "2022-03-26T20:54:07.078754Z"
        },
        "trusted": true
      },
      "execution_count": null,
      "outputs": [
        {
          "name": "stderr",
          "text": "2022-03-26 19:37:33.164188: I tensorflow/stream_executor/cuda/cuda_gpu_executor.cc:937] successful NUMA node read from SysFS had negative value (-1), but there must be at least one NUMA node, so returning NUMA node zero\n2022-03-26 19:37:33.249309: I tensorflow/stream_executor/cuda/cuda_gpu_executor.cc:937] successful NUMA node read from SysFS had negative value (-1), but there must be at least one NUMA node, so returning NUMA node zero\n2022-03-26 19:37:33.250045: I tensorflow/stream_executor/cuda/cuda_gpu_executor.cc:937] successful NUMA node read from SysFS had negative value (-1), but there must be at least one NUMA node, so returning NUMA node zero\n2022-03-26 19:37:33.251799: I tensorflow/core/platform/cpu_feature_guard.cc:142] This TensorFlow binary is optimized with oneAPI Deep Neural Network Library (oneDNN) to use the following CPU instructions in performance-critical operations:  AVX2 AVX512F FMA\nTo enable them in other operations, rebuild TensorFlow with the appropriate compiler flags.\n2022-03-26 19:37:33.252153: I tensorflow/stream_executor/cuda/cuda_gpu_executor.cc:937] successful NUMA node read from SysFS had negative value (-1), but there must be at least one NUMA node, so returning NUMA node zero\n2022-03-26 19:37:33.252861: I tensorflow/stream_executor/cuda/cuda_gpu_executor.cc:937] successful NUMA node read from SysFS had negative value (-1), but there must be at least one NUMA node, so returning NUMA node zero\n2022-03-26 19:37:33.253544: I tensorflow/stream_executor/cuda/cuda_gpu_executor.cc:937] successful NUMA node read from SysFS had negative value (-1), but there must be at least one NUMA node, so returning NUMA node zero\n2022-03-26 19:37:35.053461: I tensorflow/stream_executor/cuda/cuda_gpu_executor.cc:937] successful NUMA node read from SysFS had negative value (-1), but there must be at least one NUMA node, so returning NUMA node zero\n2022-03-26 19:37:35.054341: I tensorflow/stream_executor/cuda/cuda_gpu_executor.cc:937] successful NUMA node read from SysFS had negative value (-1), but there must be at least one NUMA node, so returning NUMA node zero\n2022-03-26 19:37:35.055066: I tensorflow/stream_executor/cuda/cuda_gpu_executor.cc:937] successful NUMA node read from SysFS had negative value (-1), but there must be at least one NUMA node, so returning NUMA node zero\n2022-03-26 19:37:35.056353: I tensorflow/core/common_runtime/gpu/gpu_device.cc:1510] Created device /job:localhost/replica:0/task:0/device:GPU:0 with 15403 MB memory:  -> device: 0, name: Tesla P100-PCIE-16GB, pci bus id: 0000:00:04.0, compute capability: 6.0\n",
          "output_type": "stream"
        },
        {
          "name": "stdout",
          "text": "Downloading data from https://storage.googleapis.com/tensorflow/keras-applications/inception_v3/inception_v3_weights_tf_dim_ordering_tf_kernels_notop.h5\n87916544/87910968 [==============================] - 1s 0us/step\n87924736/87910968 [==============================] - 1s 0us/step\n",
          "output_type": "stream"
        },
        {
          "name": "stderr",
          "text": "2022-03-26 19:37:38.746276: W tensorflow/core/framework/cpu_allocator_impl.cc:80] Allocation of 34329984 exceeds 10% of free system memory.\n2022-03-26 19:37:38.897903: I tensorflow/compiler/mlir/mlir_graph_optimization_pass.cc:185] None of the MLIR Optimization Passes are enabled (registered 2)\n",
          "output_type": "stream"
        },
        {
          "name": "stdout",
          "text": "Epoch 1/100\n",
          "output_type": "stream"
        },
        {
          "name": "stderr",
          "text": "2022-03-26 19:37:43.192632: W tensorflow/core/framework/cpu_allocator_impl.cc:80] Allocation of 34329984 exceeds 10% of free system memory.\n2022-03-26 19:37:43.837145: W tensorflow/core/framework/cpu_allocator_impl.cc:80] Allocation of 34329984 exceeds 10% of free system memory.\n2022-03-26 19:37:44.121391: I tensorflow/stream_executor/cuda/cuda_dnn.cc:369] Loaded cuDNN version 8005\n",
          "output_type": "stream"
        },
        {
          "name": "stdout",
          "text": " 3/93 [..............................] - ETA: 27s - loss: 0.7069 - accuracy: 0.5312",
          "output_type": "stream"
        },
        {
          "name": "stderr",
          "text": "2022-03-26 19:37:50.268186: W tensorflow/core/framework/cpu_allocator_impl.cc:80] Allocation of 34329984 exceeds 10% of free system memory.\n",
          "output_type": "stream"
        },
        {
          "name": "stdout",
          "text": " 4/93 [>.............................] - ETA: 35s - loss: 0.6985 - accuracy: 0.5547",
          "output_type": "stream"
        },
        {
          "name": "stderr",
          "text": "2022-03-26 19:37:50.878270: W tensorflow/core/framework/cpu_allocator_impl.cc:80] Allocation of 34329984 exceeds 10% of free system memory.\n",
          "output_type": "stream"
        },
        {
          "name": "stdout",
          "text": "93/93 [==============================] - 83s 781ms/step - loss: 0.6343 - accuracy: 0.6633 - val_loss: 0.5863 - val_accuracy: 0.7258\nEpoch 2/100\n93/93 [==============================] - 67s 724ms/step - loss: 0.5361 - accuracy: 0.7554 - val_loss: 0.5241 - val_accuracy: 0.7631\nEpoch 3/100\n93/93 [==============================] - 67s 719ms/step - loss: 0.4792 - accuracy: 0.7930 - val_loss: 0.4831 - val_accuracy: 0.7863\nEpoch 4/100\n93/93 [==============================] - 67s 718ms/step - loss: 0.4403 - accuracy: 0.8075 - val_loss: 0.4536 - val_accuracy: 0.7994\nEpoch 5/100\n93/93 [==============================] - 67s 720ms/step - loss: 0.4086 - accuracy: 0.8199 - val_loss: 0.4299 - val_accuracy: 0.8115\nEpoch 6/100\n93/93 [==============================] - 67s 720ms/step - loss: 0.3841 - accuracy: 0.8380 - val_loss: 0.4151 - val_accuracy: 0.8226\nEpoch 7/100\n93/93 [==============================] - 67s 723ms/step - loss: 0.3607 - accuracy: 0.8471 - val_loss: 0.3966 - val_accuracy: 0.8317\nEpoch 8/100\n93/93 [==============================] - 67s 720ms/step - loss: 0.3439 - accuracy: 0.8646 - val_loss: 0.3755 - val_accuracy: 0.8357\nEpoch 9/100\n93/93 [==============================] - 67s 720ms/step - loss: 0.3245 - accuracy: 0.8763 - val_loss: 0.3621 - val_accuracy: 0.8347\nEpoch 10/100\n93/93 [==============================] - 67s 717ms/step - loss: 0.3083 - accuracy: 0.8844 - val_loss: 0.3493 - val_accuracy: 0.8438\nEpoch 11/100\n93/93 [==============================] - 67s 719ms/step - loss: 0.2951 - accuracy: 0.8905 - val_loss: 0.3409 - val_accuracy: 0.8538\nEpoch 12/100\n93/93 [==============================] - 67s 719ms/step - loss: 0.2801 - accuracy: 0.8985 - val_loss: 0.3277 - val_accuracy: 0.8669\nEpoch 13/100\n93/93 [==============================] - 67s 718ms/step - loss: 0.2690 - accuracy: 0.9056 - val_loss: 0.3222 - val_accuracy: 0.8710\nEpoch 14/100\n93/93 [==============================] - 67s 718ms/step - loss: 0.2555 - accuracy: 0.9150 - val_loss: 0.3127 - val_accuracy: 0.8750\nEpoch 15/100\n93/93 [==============================] - 67s 720ms/step - loss: 0.2438 - accuracy: 0.9227 - val_loss: 0.3008 - val_accuracy: 0.8810\nEpoch 16/100\n93/93 [==============================] - 69s 738ms/step - loss: 0.2322 - accuracy: 0.9247 - val_loss: 0.2956 - val_accuracy: 0.8780\nEpoch 17/100\n93/93 [==============================] - 68s 734ms/step - loss: 0.2213 - accuracy: 0.9328 - val_loss: 0.2853 - val_accuracy: 0.8821\nEpoch 18/100\n93/93 [==============================] - 67s 719ms/step - loss: 0.2122 - accuracy: 0.9325 - val_loss: 0.2803 - val_accuracy: 0.8921\nEpoch 19/100\n93/93 [==============================] - 67s 718ms/step - loss: 0.2008 - accuracy: 0.9405 - val_loss: 0.2713 - val_accuracy: 0.8921\nEpoch 20/100\n93/93 [==============================] - 67s 719ms/step - loss: 0.1934 - accuracy: 0.9415 - val_loss: 0.2668 - val_accuracy: 0.8952\nEpoch 21/100\n93/93 [==============================] - 67s 719ms/step - loss: 0.1829 - accuracy: 0.9479 - val_loss: 0.2588 - val_accuracy: 0.8972\nEpoch 22/100\n93/93 [==============================] - 67s 723ms/step - loss: 0.1725 - accuracy: 0.9530 - val_loss: 0.2542 - val_accuracy: 0.9032\nEpoch 23/100\n93/93 [==============================] - 67s 720ms/step - loss: 0.1634 - accuracy: 0.9540 - val_loss: 0.2490 - val_accuracy: 0.8982\nEpoch 24/100\n93/93 [==============================] - 67s 724ms/step - loss: 0.1562 - accuracy: 0.9563 - val_loss: 0.2423 - val_accuracy: 0.9093\nEpoch 25/100\n93/93 [==============================] - 67s 721ms/step - loss: 0.1474 - accuracy: 0.9647 - val_loss: 0.2384 - val_accuracy: 0.9083\nEpoch 26/100\n93/93 [==============================] - 67s 719ms/step - loss: 0.1399 - accuracy: 0.9627 - val_loss: 0.2333 - val_accuracy: 0.9083\nEpoch 27/100\n93/93 [==============================] - 67s 721ms/step - loss: 0.1314 - accuracy: 0.9704 - val_loss: 0.2296 - val_accuracy: 0.9153\nEpoch 28/100\n93/93 [==============================] - 67s 719ms/step - loss: 0.1245 - accuracy: 0.9711 - val_loss: 0.2234 - val_accuracy: 0.9143\nEpoch 29/100\n93/93 [==============================] - 67s 720ms/step - loss: 0.1174 - accuracy: 0.9735 - val_loss: 0.2197 - val_accuracy: 0.9133\nEpoch 30/100\n93/93 [==============================] - 67s 719ms/step - loss: 0.1104 - accuracy: 0.9758 - val_loss: 0.2163 - val_accuracy: 0.9173\nEpoch 31/100\n93/93 [==============================] - 67s 721ms/step - loss: 0.1035 - accuracy: 0.9792 - val_loss: 0.2188 - val_accuracy: 0.9163\nEpoch 32/100\n93/93 [==============================] - 67s 720ms/step - loss: 0.0997 - accuracy: 0.9802 - val_loss: 0.2216 - val_accuracy: 0.9133\nEpoch 33/100\n93/93 [==============================] - 67s 720ms/step - loss: 0.0922 - accuracy: 0.9822 - val_loss: 0.2061 - val_accuracy: 0.9254\nEpoch 34/100\n93/93 [==============================] - 67s 720ms/step - loss: 0.0858 - accuracy: 0.9845 - val_loss: 0.2065 - val_accuracy: 0.9153\nEpoch 35/100\n93/93 [==============================] - 67s 722ms/step - loss: 0.0807 - accuracy: 0.9869 - val_loss: 0.2014 - val_accuracy: 0.9264\nEpoch 36/100\n93/93 [==============================] - 67s 722ms/step - loss: 0.0753 - accuracy: 0.9886 - val_loss: 0.1990 - val_accuracy: 0.9214\nEpoch 37/100\n93/93 [==============================] - 67s 724ms/step - loss: 0.0724 - accuracy: 0.9886 - val_loss: 0.1958 - val_accuracy: 0.9254\nEpoch 38/100\n93/93 [==============================] - 67s 719ms/step - loss: 0.0663 - accuracy: 0.9919 - val_loss: 0.1948 - val_accuracy: 0.9254\nEpoch 39/100\n93/93 [==============================] - 67s 719ms/step - loss: 0.0609 - accuracy: 0.9929 - val_loss: 0.1926 - val_accuracy: 0.9254\nEpoch 40/100\n93/93 [==============================] - 67s 720ms/step - loss: 0.0574 - accuracy: 0.9936 - val_loss: 0.1901 - val_accuracy: 0.9254\nEpoch 41/100\n93/93 [==============================] - 67s 719ms/step - loss: 0.0533 - accuracy: 0.9953 - val_loss: 0.1898 - val_accuracy: 0.9294\nEpoch 42/100\n93/93 [==============================] - 67s 718ms/step - loss: 0.0495 - accuracy: 0.9953 - val_loss: 0.1888 - val_accuracy: 0.9254\nEpoch 43/100\n93/93 [==============================] - 67s 719ms/step - loss: 0.0456 - accuracy: 0.9960 - val_loss: 0.1859 - val_accuracy: 0.9274\nEpoch 44/100\n93/93 [==============================] - 67s 720ms/step - loss: 0.0426 - accuracy: 0.9966 - val_loss: 0.1845 - val_accuracy: 0.9274\nEpoch 45/100\n93/93 [==============================] - 67s 723ms/step - loss: 0.0394 - accuracy: 0.9973 - val_loss: 0.1832 - val_accuracy: 0.9294\nEpoch 46/100\n93/93 [==============================] - 67s 721ms/step - loss: 0.0365 - accuracy: 0.9983 - val_loss: 0.1871 - val_accuracy: 0.9284\nEpoch 47/100\n93/93 [==============================] - 67s 719ms/step - loss: 0.0340 - accuracy: 0.9973 - val_loss: 0.1833 - val_accuracy: 0.9325\nEpoch 48/100\n93/93 [==============================] - 67s 722ms/step - loss: 0.0310 - accuracy: 0.9983 - val_loss: 0.1873 - val_accuracy: 0.9315\n\nEpoch 00048: ReduceLROnPlateau reducing learning rate to 1e-06.\nEpoch 49/100\n93/93 [==============================] - 67s 720ms/step - loss: 0.0288 - accuracy: 0.9987 - val_loss: 0.1815 - val_accuracy: 0.9274\nEpoch 50/100\n93/93 [==============================] - 67s 724ms/step - loss: 0.0282 - accuracy: 0.9990 - val_loss: 0.1818 - val_accuracy: 0.9304\nEpoch 51/100\n93/93 [==============================] - 67s 720ms/step - loss: 0.0275 - accuracy: 0.9990 - val_loss: 0.1817 - val_accuracy: 0.9284\nEpoch 52/100\n93/93 [==============================] - 67s 721ms/step - loss: 0.0270 - accuracy: 0.9990 - val_loss: 0.1826 - val_accuracy: 0.9335\nEpoch 53/100\n93/93 [==============================] - 67s 721ms/step - loss: 0.0266 - accuracy: 0.9997 - val_loss: 0.1820 - val_accuracy: 0.9325\nEpoch 54/100\n93/93 [==============================] - 67s 722ms/step - loss: 0.0261 - accuracy: 0.9993 - val_loss: 0.1818 - val_accuracy: 0.9315\nEpoch 55/100\n93/93 [==============================] - 67s 721ms/step - loss: 0.0258 - accuracy: 0.9993 - val_loss: 0.1819 - val_accuracy: 0.9315\nEpoch 56/100\n93/93 [==============================] - 67s 726ms/step - loss: 0.0252 - accuracy: 0.9993 - val_loss: 0.1820 - val_accuracy: 0.9315\nEpoch 57/100\n93/93 [==============================] - 67s 721ms/step - loss: 0.0249 - accuracy: 0.9997 - val_loss: 0.1826 - val_accuracy: 0.9335\nEpoch 58/100\n93/93 [==============================] - 67s 722ms/step - loss: 0.0244 - accuracy: 0.9997 - val_loss: 0.1813 - val_accuracy: 0.9284\nEpoch 59/100\n93/93 [==============================] - 67s 722ms/step - loss: 0.0239 - accuracy: 0.9997 - val_loss: 0.1815 - val_accuracy: 0.9325\nEpoch 60/100\n93/93 [==============================] - 67s 718ms/step - loss: 0.0234 - accuracy: 0.9997 - val_loss: 0.1813 - val_accuracy: 0.9315\nEpoch 61/100\n93/93 [==============================] - 67s 721ms/step - loss: 0.0229 - accuracy: 0.9997 - val_loss: 0.1813 - val_accuracy: 0.9315\nEpoch 62/100\n93/93 [==============================] - 67s 720ms/step - loss: 0.0226 - accuracy: 0.9997 - val_loss: 0.1813 - val_accuracy: 0.9294\nEpoch 63/100\n93/93 [==============================] - 67s 720ms/step - loss: 0.0221 - accuracy: 0.9997 - val_loss: 0.1813 - val_accuracy: 0.9315\nEpoch 64/100\n93/93 [==============================] - 67s 721ms/step - loss: 0.0217 - accuracy: 1.0000 - val_loss: 0.1814 - val_accuracy: 0.9325\nEpoch 65/100\n93/93 [==============================] - 67s 721ms/step - loss: 0.0212 - accuracy: 1.0000 - val_loss: 0.1817 - val_accuracy: 0.9325\nEpoch 66/100\n93/93 [==============================] - 67s 717ms/step - loss: 0.0208 - accuracy: 1.0000 - val_loss: 0.1815 - val_accuracy: 0.9335\nEpoch 67/100\n93/93 [==============================] - 67s 719ms/step - loss: 0.0204 - accuracy: 0.9997 - val_loss: 0.1815 - val_accuracy: 0.9335\nEpoch 68/100\n93/93 [==============================] - 67s 719ms/step - loss: 0.0199 - accuracy: 1.0000 - val_loss: 0.1817 - val_accuracy: 0.9325\n",
          "output_type": "stream"
        }
      ]
    },
    {
      "cell_type": "code",
      "source": [
        "from keras.models import load_model\n",
        "model_test.save('my_model.h5')"
      ],
      "metadata": {
        "execution": {
          "iopub.status.busy": "2022-03-26T20:54:07.080742Z",
          "iopub.execute_input": "2022-03-26T20:54:07.082728Z",
          "iopub.status.idle": "2022-03-26T20:54:22.891770Z",
          "shell.execute_reply.started": "2022-03-26T20:54:07.082695Z",
          "shell.execute_reply": "2022-03-26T20:54:22.890980Z"
        },
        "trusted": true,
        "id": "tjPfEuN-2RLx"
      },
      "execution_count": null,
      "outputs": []
    },
    {
      "cell_type": "markdown",
      "source": [
        "Graphs"
      ],
      "metadata": {
        "id": "Rr8TRkjI3-7I"
      }
    },
    {
      "cell_type": "code",
      "source": [
        "#learning curves\n",
        "acc = history.history['accuracy']\n",
        "val_acc = history.history['val_accuracy']\n",
        "\n",
        "loss = history.history['loss']\n",
        "val_loss = history.history['val_loss']\n",
        "default_x_ticks = range(len(acc))\n",
        "plt.figure(figsize=(12, 24))\n",
        "plt.subplot(2, 1, 1)\n",
        "plt.plot(default_x_ticks,acc, label='Training Accuracy')\n",
        "plt.plot(default_x_ticks,val_acc, label='Validation Accuracy')\n",
        "plt.legend(loc='lower right')\n",
        "plt.ylabel('Accuracy')\n",
        "plt.ylim([min(plt.ylim()),1.1])\n",
        "plt.title('Training and Validation Accuracy')\n",
        "\n",
        "plt.subplot(2, 1, 2)\n",
        "plt.plot(default_x_ticks,loss, label='Training Loss')\n",
        "plt.plot(default_x_ticks,val_loss, label='Validation Loss')\n",
        "plt.legend(loc='upper right')\n",
        "plt.ylabel('Cross Entropy')\n",
        "plt.ylim([0,1.0])\n",
        "plt.title('Training and Validation Loss')\n",
        "plt.xlabel('epoch')\n",
        "plt.show()"
      ],
      "metadata": {
        "id": "nk6wFFYkgbyE",
        "outputId": "5a449280-27da-4fa9-dbcb-013a7e57166c",
        "execution": {
          "iopub.status.busy": "2022-03-26T20:54:22.893476Z",
          "iopub.execute_input": "2022-03-26T20:54:22.893740Z",
          "iopub.status.idle": "2022-03-26T20:54:23.336143Z",
          "shell.execute_reply.started": "2022-03-26T20:54:22.893706Z",
          "shell.execute_reply": "2022-03-26T20:54:23.335395Z"
        },
        "trusted": true
      },
      "execution_count": null,
      "outputs": [
        {
          "output_type": "display_data",
          "data": {
            "text/plain": "<Figure size 864x1728 with 2 Axes>",
            "image/png": "[encoded data removed]"
          },
          "metadata": {}
        }
      ]
    },
    {
      "cell_type": "code",
      "source": [
        "from time import sleep\n",
        "import time\n",
        "start = time.process_time() \n",
        "Y_pred = model_test.predict(test_set)\n",
        "end = time.process_time()\n",
        "print(\"Time per image: {} second\".format((end-start)/len(X_test)))\n",
        "predicted_class_indices = np.argmax(Y_pred,axis=1)"
      ],
      "metadata": {
        "id": "-_zpdSTDgbyF",
        "execution": {
          "iopub.status.busy": "2022-03-26T21:01:03.869401Z",
          "iopub.execute_input": "2022-03-26T21:01:03.869747Z",
          "iopub.status.idle": "2022-03-26T21:01:20.726625Z",
          "shell.execute_reply.started": "2022-03-26T21:01:03.869709Z",
          "shell.execute_reply": "2022-03-26T21:01:20.725063Z"
        },
        "trusted": true,
        "outputId": "8d2efe27-b3b0-4ef2-beb7-69287a056160"
      },
      "execution_count": null,
      "outputs": [
        {
          "name": "stdout",
          "text": "Time per image: 0.017842648147177075 second\n",
          "output_type": "stream"
        }
      ]
    },
    {
      "cell_type": "code",
      "source": [
        "Y_pred"
      ],
      "metadata": {
        "execution": {
          "iopub.status.busy": "2022-03-26T21:06:50.960830Z",
          "iopub.execute_input": "2022-03-26T21:06:50.961482Z",
          "iopub.status.idle": "2022-03-26T21:06:50.966214Z",
          "shell.execute_reply.started": "2022-03-26T21:06:50.961441Z",
          "shell.execute_reply": "2022-03-26T21:06:50.965583Z"
        },
        "trusted": true,
        "id": "uTjR40ut2RLy",
        "outputId": "93d82e54-f1b7-4257-c431-362daedf0af5"
      },
      "execution_count": null,
      "outputs": [
        {
          "execution_count": 72,
          "output_type": "execute_result",
          "data": {
            "text/plain": "0.99999976"
          },
          "metadata": {}
        }
      ]
    },
    {
      "cell_type": "code",
      "source": [
        "labels=(training_set.class_indices)\n",
        "labels2=dict((v,k) for k,v in labels.items())\n",
        "predictions=[labels2[k] for k in predicted_class_indices] "
      ],
      "metadata": {
        "id": "QzlAxg9_vqP1"
      },
      "execution_count": null,
      "outputs": []
    },
    {
      "cell_type": "code",
      "source": [
        "import itertools\n",
        "def plot_confusion_matrix(cm, classes,                  #Confusion matrix with heatmap\n",
        "                          normalize=False,\n",
        "                          title='Confusion matrix',\n",
        "                          cmap=plt.cm.Blues):\n",
        "    \"\"\"\n",
        "    This function prints and plots the confusion matrix.\n",
        "    Normalization can be applied by setting `normalize=True`.\n",
        "    \"\"\"\n",
        "    if normalize:\n",
        "        cm = cm.astype('float') / cm.sum(axis=1)[:, np.newaxis]\n",
        "        print(\"Normalized confusion matrix\")\n",
        "    else:\n",
        "        print('Confusion matrix, without normalization')\n",
        "\n",
        "    print(cm)\n",
        "\n",
        "    plt.imshow(cm, interpolation='nearest', cmap=cmap)\n",
        "    plt.title(title)\n",
        "    plt.colorbar()\n",
        "    tick_marks = np.arange(len(classes))\n",
        "    plt.xticks(tick_marks, classes, rotation=45)\n",
        "    plt.yticks(tick_marks, classes)\n",
        "    plt.grid(False)\n",
        "    fmt = '.2f' if normalize else 'd'\n",
        "    thresh = cm.max() / 2.\n",
        "    for i, j in itertools.product(range(cm.shape[0]), range(cm.shape[1])):\n",
        "        plt.text(j, i, format(cm[i, j], fmt),\n",
        "                 horizontalalignment=\"center\",\n",
        "                 color=\"white\" if cm[i, j] > thresh else \"black\")\n",
        "    plt.tight_layout()\n",
        "    plt.ylabel('True label')\n",
        "    plt.xlabel('Predicted label')\n",
        "   "
      ],
      "metadata": {
        "id": "QpqEzGLCgbyG",
        "execution": {
          "iopub.status.busy": "2022-03-26T20:58:41.227024Z",
          "iopub.execute_input": "2022-03-26T20:58:41.228911Z",
          "iopub.status.idle": "2022-03-26T20:58:41.237921Z",
          "shell.execute_reply.started": "2022-03-26T20:58:41.228864Z",
          "shell.execute_reply": "2022-03-26T20:58:41.237222Z"
        },
        "trusted": true
      },
      "execution_count": null,
      "outputs": []
    },
    {
      "cell_type": "code",
      "source": [
        "# Get the labels of the test images.\n",
        "\n",
        "test_labels = X_test.Class\n",
        "test_labels.shape\n",
        "# argmax returns the index of the max value in a row\n",
        "cm = confusion_matrix(test_labels, predictions)\n",
        "# Print the label associated with each class\n",
        " \n",
        "print(test_set.class_indices)\n",
        "# Define the labels of the class indices. These need to match the \n",
        "# order shown above.\n",
        "cm_plot_labels = ['benign', 'malignant']\n"
      ],
      "metadata": {
        "id": "aFXCrG-vgbyG",
        "execution": {
          "iopub.status.busy": "2022-03-26T20:59:43.106337Z",
          "iopub.execute_input": "2022-03-26T20:59:43.106870Z",
          "iopub.status.idle": "2022-03-26T20:59:43.120995Z",
          "shell.execute_reply.started": "2022-03-26T20:59:43.106834Z",
          "shell.execute_reply": "2022-03-26T20:59:43.119942Z"
        },
        "trusted": true,
        "outputId": "0f454937-8ef6-4d6a-b409-ffcd94b29fff"
      },
      "execution_count": null,
      "outputs": [
        {
          "name": "stdout",
          "text": "{'benign': 0, 'malignant': 1}\n",
          "output_type": "stream"
        }
      ]
    },
    {
      "cell_type": "code",
      "source": [
        "plot_confusion_matrix(cm, cm_plot_labels, title='Confusion Matrix')"
      ],
      "metadata": {
        "id": "4WU3j6xqgbyG",
        "execution": {
          "iopub.status.busy": "2022-03-26T20:59:44.826894Z",
          "iopub.execute_input": "2022-03-26T20:59:44.827337Z",
          "iopub.status.idle": "2022-03-26T20:59:45.102754Z",
          "shell.execute_reply.started": "2022-03-26T20:59:44.827302Z",
          "shell.execute_reply": "2022-03-26T20:59:45.102014Z"
        },
        "trusted": true,
        "outputId": "9d5bf711-f375-4cd8-b363-e53c3d0b982c"
      },
      "execution_count": null,
      "outputs": [
        {
          "name": "stdout",
          "text": "Confusion matrix, without normalization\n[[459  37]\n [ 38 458]]\nAccuracy: 0.924\nPrecision: 0.925\nRecall: 0.925\n",
          "output_type": "stream"
        },
        {
          "name": "stderr",
          "text": "/opt/conda/lib/python3.7/site-packages/ipykernel_launcher.py:20: MatplotlibDeprecationWarning: Auto-removal of grids by pcolor() and pcolormesh() is deprecated since 3.5 and will be removed two minor releases later; please call grid(False) first.\n",
          "output_type": "stream"
        },
        {
          "output_type": "display_data",
          "data": {
            "text/plain": "<Figure size 432x288 with 2 Axes>",
            "image/png": "[encoded data removed]"
          },
          "metadata": {}
        }
      ]
    },
    {
      "cell_type": "code",
      "source": [
        "TP = cm[1,1] # true positive \n",
        "TN = cm[0,0] # true negatives\n",
        "FP = cm[1,0] # false positives\n",
        "FN = cm[0,1] # false negatives\n",
        "\n",
        "    \n",
        "TPR = TP/(TP+FN) #Sensitivity\n",
        "TNR = TN/(TN+FP) #Specifity\n",
        "PPV = TP/(TP+FP) #Precision\n",
        "NPV = TN/(TN+FN) # Negative predictive value\n",
        "FPR = FP/(FP+TN) # Fall out or false positive rate\n",
        "FNR = FN/(TP+FN) # False negative rate\n",
        "FDR = FP/(TP+FP) # False discovery rate\n",
        "\n",
        "# Overall accuracy\n",
        "ACC = (TP+TN)/(TP+FP+FN+TN) #Accuracy\n",
        "\n",
        "\n",
        "print(f\"Trial Metrics:\")\n",
        "print(f\"Sensitivity: {TPR}\\nSpecifity: {TNR}\\nPrecision: {PPV}\\nAccuracy: {ACC}\")"
      ],
      "metadata": {
        "execution": {
          "iopub.status.busy": "2022-03-26T20:54:42.539185Z",
          "iopub.execute_input": "2022-03-26T20:54:42.539432Z",
          "iopub.status.idle": "2022-03-26T20:54:42.547968Z",
          "shell.execute_reply.started": "2022-03-26T20:54:42.539399Z",
          "shell.execute_reply": "2022-03-26T20:54:42.547293Z"
        },
        "trusted": true,
        "id": "4Drew4iY2RLz",
        "outputId": "2f465de9-c6ce-4465-fcee-a816452ef2e9"
      },
      "execution_count": null,
      "outputs": [
        {
          "name": "stdout",
          "text": "Trial Metrics:\nSensitivity: 0.9252525252525252\nSpecifity: 0.9235412474849095\nPrecision: 0.9233870967741935\nAccuracy: 0.9243951612903226\n",
          "output_type": "stream"
        }
      ]
    },
    {
      "cell_type": "code",
      "source": [
        "\n",
        "print(classification_report(X_test.Class,predictions,digits=3))\n"
      ],
      "metadata": {
        "execution": {
          "iopub.status.busy": "2022-03-26T20:54:42.549277Z",
          "iopub.execute_input": "2022-03-26T20:54:42.549802Z",
          "iopub.status.idle": "2022-03-26T20:54:42.601678Z",
          "shell.execute_reply.started": "2022-03-26T20:54:42.549763Z",
          "shell.execute_reply": "2022-03-26T20:54:42.601017Z"
        },
        "trusted": true,
        "id": "xKk6YO3Y2RLz",
        "outputId": "ce5ce4d0-63a3-4c62-c390-4ef62bca2859"
      },
      "execution_count": null,
      "outputs": [
        {
          "name": "stdout",
          "text": "              precision    recall  f1-score   support\n\n      benign      0.924     0.925     0.924       496\n   malignant      0.925     0.923     0.924       496\n\n    accuracy                          0.924       992\n   macro avg      0.924     0.924     0.924       992\nweighted avg      0.924     0.924     0.924       992\n\n",
          "output_type": "stream"
        }
      ]
    },
    {
      "cell_type": "code",
      "source": [
        "# save predicitions to csv file\n",
        "prediction12 = pd.DataFrame(predictions, columns=['predictions']).to_csv('prediction.csv')\n"
      ],
      "metadata": {
        "execution": {
          "iopub.status.busy": "2022-03-26T20:54:42.602796Z",
          "iopub.execute_input": "2022-03-26T20:54:42.603108Z",
          "iopub.status.idle": "2022-03-26T20:54:42.615751Z",
          "shell.execute_reply.started": "2022-03-26T20:54:42.603072Z",
          "shell.execute_reply": "2022-03-26T20:54:42.614821Z"
        },
        "trusted": true,
        "id": "aopQJ2Wj2RL0"
      },
      "execution_count": null,
      "outputs": []
    }
  ]
}